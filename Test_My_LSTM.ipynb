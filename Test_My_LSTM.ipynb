{
  "nbformat": 4,
  "nbformat_minor": 0,
  "metadata": {
    "colab": {
      "name": "Test My LSTM.ipynb",
      "provenance": [],
      "collapsed_sections": [],
      "authorship_tag": "ABX9TyOyzbMBfcnxJvSWJEoEN15L",
      "include_colab_link": true
    },
    "kernelspec": {
      "name": "python3",
      "display_name": "Python 3"
    },
    "language_info": {
      "name": "python"
    }
  },
  "cells": [
    {
      "cell_type": "markdown",
      "metadata": {
        "id": "view-in-github",
        "colab_type": "text"
      },
      "source": [
        "<a href=\"https://colab.research.google.com/github/krushalshah/AI-ML-Internship/blob/main/Test_My_LSTM.ipynb\" target=\"_parent\"><img src=\"https://colab.research.google.com/assets/colab-badge.svg\" alt=\"Open In Colab\"/></a>"
      ]
    },
    {
      "cell_type": "code",
      "metadata": {
        "id": "NIMoYlezl7wO"
      },
      "source": [
        "#Import Packeges\n",
        "import pandas_datareader as pdr\n",
        "import pandas as pd\n",
        "import matplotlib.pyplot as plt\n",
        "import numpy as np\n",
        "from numpy import array\n",
        "from sklearn.preprocessing import MinMaxScaler\n",
        "#LSTM model\n",
        "from tensorflow.keras.models import Sequential\n",
        "from tensorflow.keras.layers import Dense\n",
        "from tensorflow.keras.layers import LSTM\n",
        "import tensorflow as tf\n",
        "import math\n",
        "from sklearn.metrics import mean_squared_error\n",
        "import matplotlib.pyplot as plt\n",
        "from matplotlib import rcParams\n",
        "rcParams['figure.figsize'] = 16,6"
      ],
      "execution_count": null,
      "outputs": []
    },
    {
      "cell_type": "code",
      "metadata": {
        "id": "hJJt8-mHTL6v"
      },
      "source": [
        "rcParams['figure.figsize'] = 16,6"
      ],
      "execution_count": null,
      "outputs": []
    },
    {
      "cell_type": "code",
      "metadata": {
        "id": "MtpuH1VDbuU2"
      },
      "source": [
        "### Data Collection\n",
        "key=\"20eb03f1bb408d3c17789f5586d5f4105c80b995\""
      ],
      "execution_count": null,
      "outputs": []
    },
    {
      "cell_type": "code",
      "metadata": {
        "id": "XbHE3tPmbuU3"
      },
      "source": [
        "df = pdr.get_data_tiingo('MSFT', api_key=key)"
      ],
      "execution_count": null,
      "outputs": []
    },
    {
      "cell_type": "code",
      "metadata": {
        "id": "vA9_MTRqbuU3"
      },
      "source": [
        "df.to_csv('MSFT.csv')"
      ],
      "execution_count": null,
      "outputs": []
    },
    {
      "cell_type": "code",
      "metadata": {
        "id": "TpPVRwyvbuU4"
      },
      "source": [
        "df=pd.read_csv('MSFT.csv')"
      ],
      "execution_count": null,
      "outputs": []
    },
    {
      "cell_type": "code",
      "metadata": {
        "id": "8sChwsFMbuU4",
        "colab": {
          "base_uri": "https://localhost:8080/",
          "height": 204
        },
        "outputId": "033c45b3-9e4d-44a2-87e7-5f5c1db17193"
      },
      "source": [
        "df.head()"
      ],
      "execution_count": null,
      "outputs": [
        {
          "output_type": "execute_result",
          "data": {
            "text/html": [
              "<div>\n",
              "<style scoped>\n",
              "    .dataframe tbody tr th:only-of-type {\n",
              "        vertical-align: middle;\n",
              "    }\n",
              "\n",
              "    .dataframe tbody tr th {\n",
              "        vertical-align: top;\n",
              "    }\n",
              "\n",
              "    .dataframe thead th {\n",
              "        text-align: right;\n",
              "    }\n",
              "</style>\n",
              "<table border=\"1\" class=\"dataframe\">\n",
              "  <thead>\n",
              "    <tr style=\"text-align: right;\">\n",
              "      <th></th>\n",
              "      <th>symbol</th>\n",
              "      <th>date</th>\n",
              "      <th>close</th>\n",
              "      <th>high</th>\n",
              "      <th>low</th>\n",
              "      <th>open</th>\n",
              "      <th>volume</th>\n",
              "      <th>adjClose</th>\n",
              "      <th>adjHigh</th>\n",
              "      <th>adjLow</th>\n",
              "      <th>adjOpen</th>\n",
              "      <th>adjVolume</th>\n",
              "      <th>divCash</th>\n",
              "      <th>splitFactor</th>\n",
              "    </tr>\n",
              "  </thead>\n",
              "  <tbody>\n",
              "    <tr>\n",
              "      <th>0</th>\n",
              "      <td>MSFT</td>\n",
              "      <td>2016-08-15 00:00:00+00:00</td>\n",
              "      <td>58.12</td>\n",
              "      <td>58.50</td>\n",
              "      <td>57.96</td>\n",
              "      <td>58.01</td>\n",
              "      <td>19283902</td>\n",
              "      <td>53.548534</td>\n",
              "      <td>53.898645</td>\n",
              "      <td>53.401119</td>\n",
              "      <td>53.447186</td>\n",
              "      <td>19283902</td>\n",
              "      <td>0.00</td>\n",
              "      <td>1.0</td>\n",
              "    </tr>\n",
              "    <tr>\n",
              "      <th>1</th>\n",
              "      <td>MSFT</td>\n",
              "      <td>2016-08-16 00:00:00+00:00</td>\n",
              "      <td>57.44</td>\n",
              "      <td>57.62</td>\n",
              "      <td>57.27</td>\n",
              "      <td>57.61</td>\n",
              "      <td>20523493</td>\n",
              "      <td>53.253704</td>\n",
              "      <td>53.420585</td>\n",
              "      <td>53.096094</td>\n",
              "      <td>53.411314</td>\n",
              "      <td>20523493</td>\n",
              "      <td>0.36</td>\n",
              "      <td>1.0</td>\n",
              "    </tr>\n",
              "    <tr>\n",
              "      <th>2</th>\n",
              "      <td>MSFT</td>\n",
              "      <td>2016-08-17 00:00:00+00:00</td>\n",
              "      <td>57.56</td>\n",
              "      <td>57.68</td>\n",
              "      <td>57.23</td>\n",
              "      <td>57.54</td>\n",
              "      <td>18856423</td>\n",
              "      <td>53.364958</td>\n",
              "      <td>53.476213</td>\n",
              "      <td>53.059009</td>\n",
              "      <td>53.346416</td>\n",
              "      <td>18856423</td>\n",
              "      <td>0.00</td>\n",
              "      <td>1.0</td>\n",
              "    </tr>\n",
              "    <tr>\n",
              "      <th>3</th>\n",
              "      <td>MSFT</td>\n",
              "      <td>2016-08-18 00:00:00+00:00</td>\n",
              "      <td>57.60</td>\n",
              "      <td>57.70</td>\n",
              "      <td>57.27</td>\n",
              "      <td>57.42</td>\n",
              "      <td>14214341</td>\n",
              "      <td>53.402043</td>\n",
              "      <td>53.494755</td>\n",
              "      <td>53.096094</td>\n",
              "      <td>53.235162</td>\n",
              "      <td>14214341</td>\n",
              "      <td>0.00</td>\n",
              "      <td>1.0</td>\n",
              "    </tr>\n",
              "    <tr>\n",
              "      <th>4</th>\n",
              "      <td>MSFT</td>\n",
              "      <td>2016-08-19 00:00:00+00:00</td>\n",
              "      <td>57.62</td>\n",
              "      <td>57.73</td>\n",
              "      <td>57.20</td>\n",
              "      <td>57.43</td>\n",
              "      <td>17271044</td>\n",
              "      <td>53.420585</td>\n",
              "      <td>53.522569</td>\n",
              "      <td>53.031196</td>\n",
              "      <td>53.244433</td>\n",
              "      <td>17271044</td>\n",
              "      <td>0.00</td>\n",
              "      <td>1.0</td>\n",
              "    </tr>\n",
              "  </tbody>\n",
              "</table>\n",
              "</div>"
            ],
            "text/plain": [
              "  symbol                       date  close  ...  adjVolume  divCash  splitFactor\n",
              "0   MSFT  2016-08-15 00:00:00+00:00  58.12  ...   19283902     0.00          1.0\n",
              "1   MSFT  2016-08-16 00:00:00+00:00  57.44  ...   20523493     0.36          1.0\n",
              "2   MSFT  2016-08-17 00:00:00+00:00  57.56  ...   18856423     0.00          1.0\n",
              "3   MSFT  2016-08-18 00:00:00+00:00  57.60  ...   14214341     0.00          1.0\n",
              "4   MSFT  2016-08-19 00:00:00+00:00  57.62  ...   17271044     0.00          1.0\n",
              "\n",
              "[5 rows x 14 columns]"
            ]
          },
          "metadata": {
            "tags": []
          },
          "execution_count": 69
        }
      ]
    },
    {
      "cell_type": "code",
      "metadata": {
        "colab": {
          "base_uri": "https://localhost:8080/",
          "height": 204
        },
        "id": "ZBSqqQmO_R_E",
        "outputId": "119158c4-4107-4324-910c-bbb2f70c6218"
      },
      "source": [
        "df.tail()"
      ],
      "execution_count": null,
      "outputs": [
        {
          "output_type": "execute_result",
          "data": {
            "text/html": [
              "<div>\n",
              "<style scoped>\n",
              "    .dataframe tbody tr th:only-of-type {\n",
              "        vertical-align: middle;\n",
              "    }\n",
              "\n",
              "    .dataframe tbody tr th {\n",
              "        vertical-align: top;\n",
              "    }\n",
              "\n",
              "    .dataframe thead th {\n",
              "        text-align: right;\n",
              "    }\n",
              "</style>\n",
              "<table border=\"1\" class=\"dataframe\">\n",
              "  <thead>\n",
              "    <tr style=\"text-align: right;\">\n",
              "      <th></th>\n",
              "      <th>symbol</th>\n",
              "      <th>date</th>\n",
              "      <th>close</th>\n",
              "      <th>high</th>\n",
              "      <th>low</th>\n",
              "      <th>open</th>\n",
              "      <th>volume</th>\n",
              "      <th>adjClose</th>\n",
              "      <th>adjHigh</th>\n",
              "      <th>adjLow</th>\n",
              "      <th>adjOpen</th>\n",
              "      <th>adjVolume</th>\n",
              "      <th>divCash</th>\n",
              "      <th>splitFactor</th>\n",
              "    </tr>\n",
              "  </thead>\n",
              "  <tbody>\n",
              "    <tr>\n",
              "      <th>1252</th>\n",
              "      <td>MSFT</td>\n",
              "      <td>2021-08-05 00:00:00+00:00</td>\n",
              "      <td>289.52</td>\n",
              "      <td>289.63</td>\n",
              "      <td>286.1000</td>\n",
              "      <td>286.880</td>\n",
              "      <td>13900167</td>\n",
              "      <td>289.52</td>\n",
              "      <td>289.63</td>\n",
              "      <td>286.1000</td>\n",
              "      <td>286.880</td>\n",
              "      <td>13900167</td>\n",
              "      <td>0.0</td>\n",
              "      <td>1.0</td>\n",
              "    </tr>\n",
              "    <tr>\n",
              "      <th>1253</th>\n",
              "      <td>MSFT</td>\n",
              "      <td>2021-08-06 00:00:00+00:00</td>\n",
              "      <td>289.46</td>\n",
              "      <td>289.50</td>\n",
              "      <td>287.6238</td>\n",
              "      <td>288.505</td>\n",
              "      <td>16589336</td>\n",
              "      <td>289.46</td>\n",
              "      <td>289.50</td>\n",
              "      <td>287.6238</td>\n",
              "      <td>288.505</td>\n",
              "      <td>16589336</td>\n",
              "      <td>0.0</td>\n",
              "      <td>1.0</td>\n",
              "    </tr>\n",
              "    <tr>\n",
              "      <th>1254</th>\n",
              "      <td>MSFT</td>\n",
              "      <td>2021-08-09 00:00:00+00:00</td>\n",
              "      <td>288.33</td>\n",
              "      <td>291.55</td>\n",
              "      <td>287.8100</td>\n",
              "      <td>289.750</td>\n",
              "      <td>16117629</td>\n",
              "      <td>288.33</td>\n",
              "      <td>291.55</td>\n",
              "      <td>287.8100</td>\n",
              "      <td>289.750</td>\n",
              "      <td>16117629</td>\n",
              "      <td>0.0</td>\n",
              "      <td>1.0</td>\n",
              "    </tr>\n",
              "    <tr>\n",
              "      <th>1255</th>\n",
              "      <td>MSFT</td>\n",
              "      <td>2021-08-10 00:00:00+00:00</td>\n",
              "      <td>286.44</td>\n",
              "      <td>289.25</td>\n",
              "      <td>285.2000</td>\n",
              "      <td>288.800</td>\n",
              "      <td>18616578</td>\n",
              "      <td>286.44</td>\n",
              "      <td>289.25</td>\n",
              "      <td>285.2000</td>\n",
              "      <td>288.800</td>\n",
              "      <td>18616578</td>\n",
              "      <td>0.0</td>\n",
              "      <td>1.0</td>\n",
              "    </tr>\n",
              "    <tr>\n",
              "      <th>1256</th>\n",
              "      <td>MSFT</td>\n",
              "      <td>2021-08-11 00:00:00+00:00</td>\n",
              "      <td>286.95</td>\n",
              "      <td>288.66</td>\n",
              "      <td>285.8600</td>\n",
              "      <td>287.210</td>\n",
              "      <td>13955934</td>\n",
              "      <td>286.95</td>\n",
              "      <td>288.66</td>\n",
              "      <td>285.8600</td>\n",
              "      <td>287.210</td>\n",
              "      <td>13955934</td>\n",
              "      <td>0.0</td>\n",
              "      <td>1.0</td>\n",
              "    </tr>\n",
              "  </tbody>\n",
              "</table>\n",
              "</div>"
            ],
            "text/plain": [
              "     symbol                       date   close  ...  adjVolume  divCash  splitFactor\n",
              "1252   MSFT  2021-08-05 00:00:00+00:00  289.52  ...   13900167      0.0          1.0\n",
              "1253   MSFT  2021-08-06 00:00:00+00:00  289.46  ...   16589336      0.0          1.0\n",
              "1254   MSFT  2021-08-09 00:00:00+00:00  288.33  ...   16117629      0.0          1.0\n",
              "1255   MSFT  2021-08-10 00:00:00+00:00  286.44  ...   18616578      0.0          1.0\n",
              "1256   MSFT  2021-08-11 00:00:00+00:00  286.95  ...   13955934      0.0          1.0\n",
              "\n",
              "[5 rows x 14 columns]"
            ]
          },
          "metadata": {
            "tags": []
          },
          "execution_count": 70
        }
      ]
    },
    {
      "cell_type": "code",
      "metadata": {
        "id": "PEgnOgMdbuU6"
      },
      "source": [
        "df1=df.reset_index()['close']"
      ],
      "execution_count": null,
      "outputs": []
    },
    {
      "cell_type": "code",
      "metadata": {
        "id": "l_nvSC4sbuU7",
        "colab": {
          "base_uri": "https://localhost:8080/",
          "height": 376
        },
        "outputId": "77eb18eb-2779-40d1-803f-9b173b19e4b2"
      },
      "source": [
        "plt.plot(df1);"
      ],
      "execution_count": null,
      "outputs": [
        {
          "output_type": "display_data",
          "data": {
            "image/png": "[encoded data removed]",
            "text/plain": [
              "<Figure size 1152x432 with 1 Axes>"
            ]
          },
          "metadata": {
            "tags": [],
            "needs_background": "light"
          }
        }
      ]
    },
    {
      "cell_type": "code",
      "metadata": {
        "id": "4V7RJB5rbuU8"
      },
      "source": [
        "### LSTM are sensitive to the scale of the data. so we apply MinMax scaler "
      ],
      "execution_count": null,
      "outputs": []
    },
    {
      "cell_type": "code",
      "metadata": {
        "id": "kWa3dLu4buU-"
      },
      "source": [
        "scaler=MinMaxScaler(feature_range=(0,1))\n",
        "df1=scaler.fit_transform(np.array(df1).reshape(-1,1))"
      ],
      "execution_count": null,
      "outputs": []
    },
    {
      "cell_type": "code",
      "metadata": {
        "id": "F1AFCuc5buU_"
      },
      "source": [
        "##splitting dataset into train and test split\n",
        "training_size=int(len(df1)*0.65)\n",
        "test_size=len(df1)-training_size\n",
        "train_data,test_data=df1[0:training_size,:],df1[training_size:len(df1),:1]"
      ],
      "execution_count": null,
      "outputs": []
    },
    {
      "cell_type": "code",
      "metadata": {
        "id": "1ewiwsGzbuVA",
        "colab": {
          "base_uri": "https://localhost:8080/"
        },
        "outputId": "4f119bc8-c75d-4db3-d21e-37228027a4d7"
      },
      "source": [
        "training_size,test_size"
      ],
      "execution_count": null,
      "outputs": [
        {
          "output_type": "execute_result",
          "data": {
            "text/plain": [
              "(817, 440)"
            ]
          },
          "metadata": {
            "tags": []
          },
          "execution_count": 76
        }
      ]
    },
    {
      "cell_type": "code",
      "metadata": {
        "id": "bHsD78ukbuVB"
      },
      "source": [
        "# convert an array of values into a dataset matrix\n",
        "def create_dataset(dataset, time_step=1):\n",
        "\tdataX, dataY = [], []\n",
        "\tfor i in range(len(dataset)-time_step-1):\n",
        "\t\ta = dataset[i:(i+time_step), 0]   ###i=0, 0,1,2,3-----99   100 \n",
        "\t\tdataX.append(a)\n",
        "\t\tdataY.append(dataset[i + time_step, 0])\n",
        "\treturn numpy.array(dataX), numpy.array(dataY)"
      ],
      "execution_count": null,
      "outputs": []
    },
    {
      "cell_type": "code",
      "metadata": {
        "id": "lzqVNawabuVC"
      },
      "source": [
        "# reshape into X=t,t+1,t+2,t+3 and Y=t+4\n",
        "import numpy\n",
        "time_step = 100\n",
        "X_train, y_train = create_dataset(train_data, time_step)\n",
        "X_test, ytest = create_dataset(test_data, time_step)"
      ],
      "execution_count": null,
      "outputs": []
    },
    {
      "cell_type": "code",
      "metadata": {
        "id": "YSD06qoVbuVC",
        "colab": {
          "base_uri": "https://localhost:8080/"
        },
        "outputId": "86e02f86-c55e-4d6a-d09e-4224fe6c0e92"
      },
      "source": [
        "print(X_train.shape), print(y_train.shape)"
      ],
      "execution_count": null,
      "outputs": [
        {
          "output_type": "stream",
          "text": [
            "(716, 100)\n",
            "(716,)\n"
          ],
          "name": "stdout"
        },
        {
          "output_type": "execute_result",
          "data": {
            "text/plain": [
              "(None, None)"
            ]
          },
          "metadata": {
            "tags": []
          },
          "execution_count": 79
        }
      ]
    },
    {
      "cell_type": "code",
      "metadata": {
        "id": "bl2yXavCbuVC",
        "colab": {
          "base_uri": "https://localhost:8080/"
        },
        "outputId": "d3482550-22ad-4912-a968-b99fad5237b9"
      },
      "source": [
        "print(X_test.shape), print(ytest.shape)"
      ],
      "execution_count": null,
      "outputs": [
        {
          "output_type": "stream",
          "text": [
            "(339, 100)\n",
            "(339,)\n"
          ],
          "name": "stdout"
        },
        {
          "output_type": "execute_result",
          "data": {
            "text/plain": [
              "(None, None)"
            ]
          },
          "metadata": {
            "tags": []
          },
          "execution_count": 80
        }
      ]
    },
    {
      "cell_type": "code",
      "metadata": {
        "id": "JKr4lelfbuVD"
      },
      "source": [
        "# reshape input to be [samples, time steps, features] which is required for LSTM\n",
        "X_train =X_train.reshape(X_train.shape[0],X_train.shape[1] , 1)\n",
        "X_test = X_test.reshape(X_test.shape[0],X_test.shape[1] , 1)"
      ],
      "execution_count": null,
      "outputs": []
    },
    {
      "cell_type": "code",
      "metadata": {
        "id": "G6l-e7VfbuVE"
      },
      "source": [
        "model=Sequential()\n",
        "model.add(LSTM(50,return_sequences=True,input_shape=(100,1)))\n",
        "model.add(LSTM(50,return_sequences=True))\n",
        "model.add(LSTM(50))\n",
        "model.add(Dense(1))\n",
        "model.compile(loss='mean_squared_error',optimizer='adam')\n"
      ],
      "execution_count": null,
      "outputs": []
    },
    {
      "cell_type": "code",
      "metadata": {
        "id": "Nz6Se7wdbuVF",
        "colab": {
          "base_uri": "https://localhost:8080/"
        },
        "outputId": "06edb584-15d8-4ffc-c210-35fd359cb135"
      },
      "source": [
        "model.summary()"
      ],
      "execution_count": null,
      "outputs": [
        {
          "output_type": "stream",
          "text": [
            "Model: \"sequential_2\"\n",
            "_________________________________________________________________\n",
            "Layer (type)                 Output Shape              Param #   \n",
            "=================================================================\n",
            "lstm_4 (LSTM)                (None, 100, 50)           10400     \n",
            "_________________________________________________________________\n",
            "lstm_5 (LSTM)                (None, 100, 50)           20200     \n",
            "_________________________________________________________________\n",
            "lstm_6 (LSTM)                (None, 50)                20200     \n",
            "_________________________________________________________________\n",
            "dense_2 (Dense)              (None, 1)                 51        \n",
            "=================================================================\n",
            "Total params: 50,851\n",
            "Trainable params: 50,851\n",
            "Non-trainable params: 0\n",
            "_________________________________________________________________\n"
          ],
          "name": "stdout"
        }
      ]
    },
    {
      "cell_type": "code",
      "metadata": {
        "id": "TfG1BUilbuVG",
        "colab": {
          "base_uri": "https://localhost:8080/"
        },
        "outputId": "73f46a38-bc24-45af-fc8d-69de3a9bfb36"
      },
      "source": [
        "model.fit(X_train,y_train,validation_data=(X_test,ytest),epochs=100,batch_size=64,verbose=1);"
      ],
      "execution_count": null,
      "outputs": [
        {
          "output_type": "stream",
          "text": [
            "Epoch 1/100\n",
            "12/12 [==============================] - 9s 297ms/step - loss: 0.0128 - val_loss: 0.1153\n",
            "Epoch 2/100\n",
            "12/12 [==============================] - 2s 200ms/step - loss: 0.0030 - val_loss: 0.0070\n",
            "Epoch 3/100\n",
            "12/12 [==============================] - 2s 200ms/step - loss: 7.6091e-04 - val_loss: 0.0016\n",
            "Epoch 4/100\n",
            "12/12 [==============================] - 2s 198ms/step - loss: 3.0217e-04 - val_loss: 0.0018\n",
            "Epoch 5/100\n",
            "12/12 [==============================] - 2s 200ms/step - loss: 1.8171e-04 - val_loss: 0.0064\n",
            "Epoch 6/100\n",
            "12/12 [==============================] - 2s 191ms/step - loss: 1.7270e-04 - val_loss: 0.0048\n",
            "Epoch 7/100\n",
            "12/12 [==============================] - 2s 192ms/step - loss: 1.7257e-04 - val_loss: 0.0034\n",
            "Epoch 8/100\n",
            "12/12 [==============================] - 2s 197ms/step - loss: 1.5048e-04 - val_loss: 0.0046\n",
            "Epoch 9/100\n",
            "12/12 [==============================] - 2s 192ms/step - loss: 1.4748e-04 - val_loss: 0.0041\n",
            "Epoch 10/100\n",
            "12/12 [==============================] - 2s 192ms/step - loss: 1.5004e-04 - val_loss: 0.0039\n",
            "Epoch 11/100\n",
            "12/12 [==============================] - 2s 191ms/step - loss: 1.5318e-04 - val_loss: 0.0033\n",
            "Epoch 12/100\n",
            "12/12 [==============================] - 2s 197ms/step - loss: 1.5193e-04 - val_loss: 0.0039\n",
            "Epoch 13/100\n",
            "12/12 [==============================] - 2s 200ms/step - loss: 1.4199e-04 - val_loss: 0.0037\n",
            "Epoch 14/100\n",
            "12/12 [==============================] - 2s 199ms/step - loss: 1.4884e-04 - val_loss: 0.0040\n",
            "Epoch 15/100\n",
            "12/12 [==============================] - 2s 195ms/step - loss: 1.5217e-04 - val_loss: 0.0037\n",
            "Epoch 16/100\n",
            "12/12 [==============================] - 2s 194ms/step - loss: 1.4832e-04 - val_loss: 0.0042\n",
            "Epoch 17/100\n",
            "12/12 [==============================] - 2s 194ms/step - loss: 1.4273e-04 - val_loss: 0.0048\n",
            "Epoch 18/100\n",
            "12/12 [==============================] - 2s 194ms/step - loss: 1.4434e-04 - val_loss: 0.0064\n",
            "Epoch 19/100\n",
            "12/12 [==============================] - 2s 195ms/step - loss: 1.5351e-04 - val_loss: 0.0065\n",
            "Epoch 20/100\n",
            "12/12 [==============================] - 2s 196ms/step - loss: 1.4567e-04 - val_loss: 0.0045\n",
            "Epoch 21/100\n",
            "12/12 [==============================] - 2s 196ms/step - loss: 1.4476e-04 - val_loss: 0.0048\n",
            "Epoch 22/100\n",
            "12/12 [==============================] - 2s 193ms/step - loss: 1.3967e-04 - val_loss: 0.0047\n",
            "Epoch 23/100\n",
            "12/12 [==============================] - 2s 195ms/step - loss: 1.3987e-04 - val_loss: 0.0051\n",
            "Epoch 24/100\n",
            "12/12 [==============================] - 2s 197ms/step - loss: 1.3901e-04 - val_loss: 0.0057\n",
            "Epoch 25/100\n",
            "12/12 [==============================] - 2s 196ms/step - loss: 1.4105e-04 - val_loss: 0.0052\n",
            "Epoch 26/100\n",
            "12/12 [==============================] - 2s 195ms/step - loss: 1.4447e-04 - val_loss: 0.0054\n",
            "Epoch 27/100\n",
            "12/12 [==============================] - 2s 192ms/step - loss: 1.3854e-04 - val_loss: 0.0040\n",
            "Epoch 28/100\n",
            "12/12 [==============================] - 2s 194ms/step - loss: 1.5637e-04 - val_loss: 0.0048\n",
            "Epoch 29/100\n",
            "12/12 [==============================] - 2s 192ms/step - loss: 1.4548e-04 - val_loss: 0.0066\n",
            "Epoch 30/100\n",
            "12/12 [==============================] - 2s 191ms/step - loss: 1.4819e-04 - val_loss: 0.0034\n",
            "Epoch 31/100\n",
            "12/12 [==============================] - 2s 193ms/step - loss: 1.4477e-04 - val_loss: 0.0054\n",
            "Epoch 32/100\n",
            "12/12 [==============================] - 2s 193ms/step - loss: 1.3673e-04 - val_loss: 0.0051\n",
            "Epoch 33/100\n",
            "12/12 [==============================] - 2s 194ms/step - loss: 1.3811e-04 - val_loss: 0.0055\n",
            "Epoch 34/100\n",
            "12/12 [==============================] - 2s 198ms/step - loss: 1.3978e-04 - val_loss: 0.0043\n",
            "Epoch 35/100\n",
            "12/12 [==============================] - 2s 190ms/step - loss: 1.3494e-04 - val_loss: 0.0047\n",
            "Epoch 36/100\n",
            "12/12 [==============================] - 2s 194ms/step - loss: 1.3660e-04 - val_loss: 0.0040\n",
            "Epoch 37/100\n",
            "12/12 [==============================] - 2s 194ms/step - loss: 1.3610e-04 - val_loss: 0.0036\n",
            "Epoch 38/100\n",
            "12/12 [==============================] - 2s 195ms/step - loss: 1.3836e-04 - val_loss: 0.0046\n",
            "Epoch 39/100\n",
            "12/12 [==============================] - 2s 195ms/step - loss: 1.4387e-04 - val_loss: 0.0046\n",
            "Epoch 40/100\n",
            "12/12 [==============================] - 2s 197ms/step - loss: 1.3943e-04 - val_loss: 0.0034\n",
            "Epoch 41/100\n",
            "12/12 [==============================] - 2s 195ms/step - loss: 1.4984e-04 - val_loss: 0.0038\n",
            "Epoch 42/100\n",
            "12/12 [==============================] - 2s 195ms/step - loss: 1.3036e-04 - val_loss: 0.0039\n",
            "Epoch 43/100\n",
            "12/12 [==============================] - 2s 193ms/step - loss: 1.3217e-04 - val_loss: 0.0031\n",
            "Epoch 44/100\n",
            "12/12 [==============================] - 2s 195ms/step - loss: 1.3001e-04 - val_loss: 0.0037\n",
            "Epoch 45/100\n",
            "12/12 [==============================] - 2s 195ms/step - loss: 1.2757e-04 - val_loss: 0.0043\n",
            "Epoch 46/100\n",
            "12/12 [==============================] - 2s 193ms/step - loss: 1.3008e-04 - val_loss: 0.0034\n",
            "Epoch 47/100\n",
            "12/12 [==============================] - 2s 195ms/step - loss: 1.2890e-04 - val_loss: 0.0057\n",
            "Epoch 48/100\n",
            "12/12 [==============================] - 2s 195ms/step - loss: 1.4531e-04 - val_loss: 0.0038\n",
            "Epoch 49/100\n",
            "12/12 [==============================] - 2s 192ms/step - loss: 1.3312e-04 - val_loss: 0.0037\n",
            "Epoch 50/100\n",
            "12/12 [==============================] - 2s 198ms/step - loss: 1.2727e-04 - val_loss: 0.0032\n",
            "Epoch 51/100\n",
            "12/12 [==============================] - 2s 194ms/step - loss: 1.2899e-04 - val_loss: 0.0032\n",
            "Epoch 52/100\n",
            "12/12 [==============================] - 2s 192ms/step - loss: 1.2816e-04 - val_loss: 0.0032\n",
            "Epoch 53/100\n",
            "12/12 [==============================] - 2s 194ms/step - loss: 1.2841e-04 - val_loss: 0.0034\n",
            "Epoch 54/100\n",
            "12/12 [==============================] - 2s 196ms/step - loss: 1.3871e-04 - val_loss: 0.0026\n",
            "Epoch 55/100\n",
            "12/12 [==============================] - 2s 193ms/step - loss: 1.3642e-04 - val_loss: 0.0051\n",
            "Epoch 56/100\n",
            "12/12 [==============================] - 2s 193ms/step - loss: 1.3544e-04 - val_loss: 0.0022\n",
            "Epoch 57/100\n",
            "12/12 [==============================] - 2s 195ms/step - loss: 1.4259e-04 - val_loss: 0.0059\n",
            "Epoch 58/100\n",
            "12/12 [==============================] - 2s 194ms/step - loss: 1.5118e-04 - val_loss: 0.0022\n",
            "Epoch 59/100\n",
            "12/12 [==============================] - 2s 196ms/step - loss: 1.3272e-04 - val_loss: 0.0027\n",
            "Epoch 60/100\n",
            "12/12 [==============================] - 2s 195ms/step - loss: 1.2456e-04 - val_loss: 0.0023\n",
            "Epoch 61/100\n",
            "12/12 [==============================] - 2s 197ms/step - loss: 1.2380e-04 - val_loss: 0.0032\n",
            "Epoch 62/100\n",
            "12/12 [==============================] - 2s 190ms/step - loss: 1.3287e-04 - val_loss: 0.0038\n",
            "Epoch 63/100\n",
            "12/12 [==============================] - 2s 195ms/step - loss: 1.3102e-04 - val_loss: 0.0034\n",
            "Epoch 64/100\n",
            "12/12 [==============================] - 2s 195ms/step - loss: 1.6535e-04 - val_loss: 0.0019\n",
            "Epoch 65/100\n",
            "12/12 [==============================] - 2s 198ms/step - loss: 1.3274e-04 - val_loss: 0.0057\n",
            "Epoch 66/100\n",
            "12/12 [==============================] - 2s 203ms/step - loss: 1.3090e-04 - val_loss: 0.0020\n",
            "Epoch 67/100\n",
            "12/12 [==============================] - 2s 196ms/step - loss: 1.2109e-04 - val_loss: 0.0040\n",
            "Epoch 68/100\n",
            "12/12 [==============================] - 2s 197ms/step - loss: 1.2189e-04 - val_loss: 0.0034\n",
            "Epoch 69/100\n",
            "12/12 [==============================] - 2s 195ms/step - loss: 1.2509e-04 - val_loss: 0.0026\n",
            "Epoch 70/100\n",
            "12/12 [==============================] - 2s 196ms/step - loss: 1.2159e-04 - val_loss: 0.0029\n",
            "Epoch 71/100\n",
            "12/12 [==============================] - 2s 193ms/step - loss: 1.4062e-04 - val_loss: 0.0029\n",
            "Epoch 72/100\n",
            "12/12 [==============================] - 2s 193ms/step - loss: 1.5786e-04 - val_loss: 0.0065\n",
            "Epoch 73/100\n",
            "12/12 [==============================] - 2s 196ms/step - loss: 1.3894e-04 - val_loss: 0.0019\n",
            "Epoch 74/100\n",
            "12/12 [==============================] - 2s 195ms/step - loss: 1.3694e-04 - val_loss: 0.0026\n",
            "Epoch 75/100\n",
            "12/12 [==============================] - 2s 196ms/step - loss: 1.1973e-04 - val_loss: 0.0045\n",
            "Epoch 76/100\n",
            "12/12 [==============================] - 2s 197ms/step - loss: 1.2958e-04 - val_loss: 0.0015\n",
            "Epoch 77/100\n",
            "12/12 [==============================] - 2s 196ms/step - loss: 1.2896e-04 - val_loss: 0.0026\n",
            "Epoch 78/100\n",
            "12/12 [==============================] - 2s 196ms/step - loss: 1.1871e-04 - val_loss: 0.0030\n",
            "Epoch 79/100\n",
            "12/12 [==============================] - 2s 192ms/step - loss: 1.1713e-04 - val_loss: 0.0036\n",
            "Epoch 80/100\n",
            "12/12 [==============================] - 2s 194ms/step - loss: 1.3203e-04 - val_loss: 0.0026\n",
            "Epoch 81/100\n",
            "12/12 [==============================] - 2s 196ms/step - loss: 1.2352e-04 - val_loss: 0.0013\n",
            "Epoch 82/100\n",
            "12/12 [==============================] - 2s 194ms/step - loss: 1.4021e-04 - val_loss: 0.0027\n",
            "Epoch 83/100\n",
            "12/12 [==============================] - 2s 197ms/step - loss: 1.2915e-04 - val_loss: 0.0047\n",
            "Epoch 84/100\n",
            "12/12 [==============================] - 2s 199ms/step - loss: 1.6324e-04 - val_loss: 0.0022\n",
            "Epoch 85/100\n",
            "12/12 [==============================] - 2s 198ms/step - loss: 1.2234e-04 - val_loss: 0.0021\n",
            "Epoch 86/100\n",
            "12/12 [==============================] - 2s 200ms/step - loss: 1.1377e-04 - val_loss: 0.0031\n",
            "Epoch 87/100\n",
            "12/12 [==============================] - 2s 198ms/step - loss: 1.1664e-04 - val_loss: 0.0023\n",
            "Epoch 88/100\n",
            "12/12 [==============================] - 2s 198ms/step - loss: 1.2001e-04 - val_loss: 0.0021\n",
            "Epoch 89/100\n",
            "12/12 [==============================] - 2s 193ms/step - loss: 1.1678e-04 - val_loss: 0.0017\n",
            "Epoch 90/100\n",
            "12/12 [==============================] - 2s 194ms/step - loss: 1.1337e-04 - val_loss: 0.0021\n",
            "Epoch 91/100\n",
            "12/12 [==============================] - 2s 193ms/step - loss: 1.1073e-04 - val_loss: 0.0027\n",
            "Epoch 92/100\n",
            "12/12 [==============================] - 2s 195ms/step - loss: 1.1101e-04 - val_loss: 0.0014\n",
            "Epoch 93/100\n",
            "12/12 [==============================] - 2s 198ms/step - loss: 1.2067e-04 - val_loss: 0.0024\n",
            "Epoch 94/100\n",
            "12/12 [==============================] - 2s 198ms/step - loss: 1.0790e-04 - val_loss: 0.0020\n",
            "Epoch 95/100\n",
            "12/12 [==============================] - 2s 192ms/step - loss: 1.1806e-04 - val_loss: 0.0016\n",
            "Epoch 96/100\n",
            "12/12 [==============================] - 2s 195ms/step - loss: 1.3254e-04 - val_loss: 9.6384e-04\n",
            "Epoch 97/100\n",
            "12/12 [==============================] - 2s 194ms/step - loss: 1.5371e-04 - val_loss: 0.0033\n",
            "Epoch 98/100\n",
            "12/12 [==============================] - 2s 194ms/step - loss: 1.4495e-04 - val_loss: 0.0033\n",
            "Epoch 99/100\n",
            "12/12 [==============================] - 2s 195ms/step - loss: 1.1848e-04 - val_loss: 0.0029\n",
            "Epoch 100/100\n",
            "12/12 [==============================] - 2s 195ms/step - loss: 1.1563e-04 - val_loss: 0.0013\n"
          ],
          "name": "stdout"
        }
      ]
    },
    {
      "cell_type": "code",
      "metadata": {
        "id": "LSCIOl2JbuVI"
      },
      "source": [
        "### Lets Do the prediction and check performance metrics\n",
        "train_predict=model.predict(X_train)\n",
        "test_predict=model.predict(X_test)"
      ],
      "execution_count": null,
      "outputs": []
    },
    {
      "cell_type": "code",
      "metadata": {
        "id": "G_47qdwabuVI"
      },
      "source": [
        "##Transformback to original form\n",
        "train_predict=scaler.inverse_transform(train_predict)\n",
        "test_predict=scaler.inverse_transform(test_predict)"
      ],
      "execution_count": null,
      "outputs": []
    },
    {
      "cell_type": "code",
      "metadata": {
        "id": "YbWEf_o_buVI",
        "colab": {
          "base_uri": "https://localhost:8080/"
        },
        "outputId": "2a66589c-fb4c-454a-a859-c1f8f5e3f6b3"
      },
      "source": [
        "### Calculate RMSE performance metrics\n",
        "math.sqrt(mean_squared_error(y_train,train_predict))"
      ],
      "execution_count": null,
      "outputs": [
        {
          "output_type": "execute_result",
          "data": {
            "text/plain": [
              "102.54193162251264"
            ]
          },
          "metadata": {
            "tags": []
          },
          "execution_count": 87
        }
      ]
    },
    {
      "cell_type": "code",
      "metadata": {
        "id": "YCAhjb7xbuVJ",
        "colab": {
          "base_uri": "https://localhost:8080/"
        },
        "outputId": "b392bbf1-3906-4b76-b522-db9a4ebec221"
      },
      "source": [
        "### Test Data RMSE\n",
        "math.sqrt(mean_squared_error(ytest,test_predict))"
      ],
      "execution_count": null,
      "outputs": [
        {
          "output_type": "execute_result",
          "data": {
            "text/plain": [
              "220.90191631389803"
            ]
          },
          "metadata": {
            "tags": []
          },
          "execution_count": 88
        }
      ]
    },
    {
      "cell_type": "code",
      "metadata": {
        "id": "oDjdhBbJbuVJ",
        "colab": {
          "base_uri": "https://localhost:8080/",
          "height": 376
        },
        "outputId": "1fa45da5-67a0-4eed-dded-746460df43ea"
      },
      "source": [
        "### Plotting \n",
        "# shift train predictions for plotting\n",
        "look_back=100\n",
        "trainPredictPlot = numpy.empty_like(df1)\n",
        "trainPredictPlot[:, :] = np.nan\n",
        "trainPredictPlot[look_back:len(train_predict)+look_back, :] = train_predict\n",
        "# shift test predictions for plotting\n",
        "testPredictPlot = numpy.empty_like(df1)\n",
        "testPredictPlot[:, :] = numpy.nan\n",
        "testPredictPlot[len(train_predict)+(look_back*2)+1:len(df1)-1, :] = test_predict\n",
        "# plot baseline and predictions\n",
        "plt.plot(scaler.inverse_transform(df1), label = 'Actual')\n",
        "plt.plot(trainPredictPlot,label = 'Train')\n",
        "plt.plot(testPredictPlot, label ='Test')\n",
        "plt.legend();\n",
        "plt.show();\n"
      ],
      "execution_count": null,
      "outputs": [
        {
          "output_type": "display_data",
          "data": {
            "image/png": "[encoded data removed]",
            "text/plain": [
              "<Figure size 1152x432 with 1 Axes>"
            ]
          },
          "metadata": {
            "tags": [],
            "needs_background": "light"
          }
        }
      ]
    },
    {
      "cell_type": "code",
      "metadata": {
        "id": "VbMkJZ_xbuVK",
        "colab": {
          "base_uri": "https://localhost:8080/"
        },
        "outputId": "df36d2fb-795e-45ed-ac3f-a56a79d06c5b"
      },
      "source": [
        "len(test_data)"
      ],
      "execution_count": null,
      "outputs": [
        {
          "output_type": "execute_result",
          "data": {
            "text/plain": [
              "440"
            ]
          },
          "metadata": {
            "tags": []
          },
          "execution_count": 90
        }
      ]
    },
    {
      "cell_type": "code",
      "metadata": {
        "id": "cdY2QhxobuVK",
        "colab": {
          "base_uri": "https://localhost:8080/"
        },
        "outputId": "c08c524c-51c1-4c1d-85ad-d8e933a77a5e"
      },
      "source": [
        "x_input=test_data[341:].reshape(1,-1)\n",
        "x_input.shape\n"
      ],
      "execution_count": null,
      "outputs": [
        {
          "output_type": "execute_result",
          "data": {
            "text/plain": [
              "(1, 99)"
            ]
          },
          "metadata": {
            "tags": []
          },
          "execution_count": 91
        }
      ]
    },
    {
      "cell_type": "code",
      "metadata": {
        "id": "L5AbBqjBbuVM"
      },
      "source": [
        "temp_input=list(x_input)\n",
        "temp_input=temp_input[0].tolist()"
      ],
      "execution_count": null,
      "outputs": []
    },
    {
      "cell_type": "code",
      "metadata": {
        "id": "0kiod4YFbuVN",
        "colab": {
          "base_uri": "https://localhost:8080/"
        },
        "outputId": "b5093795-93d4-4fc4-ffa7-b0fa8cee0ace"
      },
      "source": [
        "# demonstrate prediction for next 10 days\n",
        "lst_output=[]\n",
        "n_steps=99\n",
        "i=0\n",
        "while(i<30):\n",
        "    \n",
        "    if(len(temp_input)>99):\n",
        "        #print(temp_input)\n",
        "        x_input=np.array(temp_input[1:])\n",
        "        print(\"{} day input {}\".format(i,x_input))\n",
        "        x_input=x_input.reshape(1,-1)\n",
        "        x_input = x_input.reshape((1, n_steps, 1))\n",
        "        #print(x_input)\n",
        "        yhat = model.predict(x_input, verbose=0)\n",
        "        print(\"{} day output {}\".format(i,yhat))\n",
        "        temp_input.extend(yhat[0].tolist())\n",
        "        temp_input=temp_input[1:]\n",
        "        #print(temp_input)\n",
        "        lst_output.extend(yhat.tolist())\n",
        "        i=i+1\n",
        "    else:\n",
        "        x_input = x_input.reshape((1, n_steps,1))\n",
        "        yhat = model.predict(x_input, verbose=0)\n",
        "        print(yhat[0])\n",
        "        temp_input.extend(yhat[0].tolist())\n",
        "        print(len(temp_input))\n",
        "        lst_output.extend(yhat.tolist())\n",
        "        i=i+1"
      ],
      "execution_count": null,
      "outputs": [
        {
          "output_type": "stream",
          "text": [
            "WARNING:tensorflow:Model was constructed with shape (None, 100, 1) for input KerasTensor(type_spec=TensorSpec(shape=(None, 100, 1), dtype=tf.float32, name='lstm_4_input'), name='lstm_4_input', description=\"created by layer 'lstm_4_input'\"), but it was called on an input with incompatible shape (None, 99, 1).\n",
            "[0.9387156]\n",
            "100\n",
            "1 day input [0.76779748 0.75443331 0.77216654 0.76685514 0.75233445 0.76912533\n",
            " 0.79731003 0.82609441 0.82091151 0.82964962 0.84399897 0.85513578\n",
            " 0.85539279 0.86644393 0.8540221  0.87077015 0.87608156 0.86751478\n",
            " 0.86545875 0.87539621 0.86078986 0.87783775 0.8795511  0.88135012\n",
            " 0.84961021 0.84082926 0.83941575 0.83804506 0.82061167 0.81495759\n",
            " 0.82892144 0.84061509 0.8179988  0.81392958 0.78296068 0.80022274\n",
            " 0.82215369 0.80943202 0.80043691 0.80060824 0.81500043 0.80938919\n",
            " 0.833419   0.83744539 0.83646021 0.82712242 0.82870727 0.81894115\n",
            " 0.81851281 0.81170222 0.83346184 0.84639767 0.84108627 0.84545532\n",
            " 0.86108969 0.8638739  0.87244068 0.86588709 0.86168937 0.8767669\n",
            " 0.87047032 0.88417716 0.89651332 0.89550672 0.90156772 0.89441446\n",
            " 0.910263   0.92174248 0.91960079 0.92259916 0.94851366 0.9485565\n",
            " 0.95827979 0.94752848 0.94975585 0.94710015 0.96277735 0.96933093\n",
            " 0.96299152 0.96179217 0.9457723  0.95566692 0.96457637 0.98487964\n",
            " 1.         0.9973443  0.98659299 0.98522231 0.98642166 0.97961107\n",
            " 0.97922556 0.98907736 0.98646449 0.99935749 0.99910049 0.99426026\n",
            " 0.98616465 0.98834918 0.93871558]\n",
            "1 day output [[0.9370273]]\n",
            "2 day input [0.75443331 0.77216654 0.76685514 0.75233445 0.76912533 0.79731003\n",
            " 0.82609441 0.82091151 0.82964962 0.84399897 0.85513578 0.85539279\n",
            " 0.86644393 0.8540221  0.87077015 0.87608156 0.86751478 0.86545875\n",
            " 0.87539621 0.86078986 0.87783775 0.8795511  0.88135012 0.84961021\n",
            " 0.84082926 0.83941575 0.83804506 0.82061167 0.81495759 0.82892144\n",
            " 0.84061509 0.8179988  0.81392958 0.78296068 0.80022274 0.82215369\n",
            " 0.80943202 0.80043691 0.80060824 0.81500043 0.80938919 0.833419\n",
            " 0.83744539 0.83646021 0.82712242 0.82870727 0.81894115 0.81851281\n",
            " 0.81170222 0.83346184 0.84639767 0.84108627 0.84545532 0.86108969\n",
            " 0.8638739  0.87244068 0.86588709 0.86168937 0.8767669  0.87047032\n",
            " 0.88417716 0.89651332 0.89550672 0.90156772 0.89441446 0.910263\n",
            " 0.92174248 0.91960079 0.92259916 0.94851366 0.9485565  0.95827979\n",
            " 0.94752848 0.94975585 0.94710015 0.96277735 0.96933093 0.96299152\n",
            " 0.96179217 0.9457723  0.95566692 0.96457637 0.98487964 1.\n",
            " 0.9973443  0.98659299 0.98522231 0.98642166 0.97961107 0.97922556\n",
            " 0.98907736 0.98646449 0.99935749 0.99910049 0.99426026 0.98616465\n",
            " 0.98834918 0.93871558 0.93702728]\n",
            "2 day output [[0.93342006]]\n",
            "3 day input [0.77216654 0.76685514 0.75233445 0.76912533 0.79731003 0.82609441\n",
            " 0.82091151 0.82964962 0.84399897 0.85513578 0.85539279 0.86644393\n",
            " 0.8540221  0.87077015 0.87608156 0.86751478 0.86545875 0.87539621\n",
            " 0.86078986 0.87783775 0.8795511  0.88135012 0.84961021 0.84082926\n",
            " 0.83941575 0.83804506 0.82061167 0.81495759 0.82892144 0.84061509\n",
            " 0.8179988  0.81392958 0.78296068 0.80022274 0.82215369 0.80943202\n",
            " 0.80043691 0.80060824 0.81500043 0.80938919 0.833419   0.83744539\n",
            " 0.83646021 0.82712242 0.82870727 0.81894115 0.81851281 0.81170222\n",
            " 0.83346184 0.84639767 0.84108627 0.84545532 0.86108969 0.8638739\n",
            " 0.87244068 0.86588709 0.86168937 0.8767669  0.87047032 0.88417716\n",
            " 0.89651332 0.89550672 0.90156772 0.89441446 0.910263   0.92174248\n",
            " 0.91960079 0.92259916 0.94851366 0.9485565  0.95827979 0.94752848\n",
            " 0.94975585 0.94710015 0.96277735 0.96933093 0.96299152 0.96179217\n",
            " 0.9457723  0.95566692 0.96457637 0.98487964 1.         0.9973443\n",
            " 0.98659299 0.98522231 0.98642166 0.97961107 0.97922556 0.98907736\n",
            " 0.98646449 0.99935749 0.99910049 0.99426026 0.98616465 0.98834918\n",
            " 0.93871558 0.93702728 0.93342006]\n",
            "3 day output [[0.9282759]]\n",
            "4 day input [0.76685514 0.75233445 0.76912533 0.79731003 0.82609441 0.82091151\n",
            " 0.82964962 0.84399897 0.85513578 0.85539279 0.86644393 0.8540221\n",
            " 0.87077015 0.87608156 0.86751478 0.86545875 0.87539621 0.86078986\n",
            " 0.87783775 0.8795511  0.88135012 0.84961021 0.84082926 0.83941575\n",
            " 0.83804506 0.82061167 0.81495759 0.82892144 0.84061509 0.8179988\n",
            " 0.81392958 0.78296068 0.80022274 0.82215369 0.80943202 0.80043691\n",
            " 0.80060824 0.81500043 0.80938919 0.833419   0.83744539 0.83646021\n",
            " 0.82712242 0.82870727 0.81894115 0.81851281 0.81170222 0.83346184\n",
            " 0.84639767 0.84108627 0.84545532 0.86108969 0.8638739  0.87244068\n",
            " 0.86588709 0.86168937 0.8767669  0.87047032 0.88417716 0.89651332\n",
            " 0.89550672 0.90156772 0.89441446 0.910263   0.92174248 0.91960079\n",
            " 0.92259916 0.94851366 0.9485565  0.95827979 0.94752848 0.94975585\n",
            " 0.94710015 0.96277735 0.96933093 0.96299152 0.96179217 0.9457723\n",
            " 0.95566692 0.96457637 0.98487964 1.         0.9973443  0.98659299\n",
            " 0.98522231 0.98642166 0.97961107 0.97922556 0.98907736 0.98646449\n",
            " 0.99935749 0.99910049 0.99426026 0.98616465 0.98834918 0.93871558\n",
            " 0.93702728 0.93342006 0.92827588]\n",
            "4 day output [[0.9220536]]\n",
            "5 day input [0.75233445 0.76912533 0.79731003 0.82609441 0.82091151 0.82964962\n",
            " 0.84399897 0.85513578 0.85539279 0.86644393 0.8540221  0.87077015\n",
            " 0.87608156 0.86751478 0.86545875 0.87539621 0.86078986 0.87783775\n",
            " 0.8795511  0.88135012 0.84961021 0.84082926 0.83941575 0.83804506\n",
            " 0.82061167 0.81495759 0.82892144 0.84061509 0.8179988  0.81392958\n",
            " 0.78296068 0.80022274 0.82215369 0.80943202 0.80043691 0.80060824\n",
            " 0.81500043 0.80938919 0.833419   0.83744539 0.83646021 0.82712242\n",
            " 0.82870727 0.81894115 0.81851281 0.81170222 0.83346184 0.84639767\n",
            " 0.84108627 0.84545532 0.86108969 0.8638739  0.87244068 0.86588709\n",
            " 0.86168937 0.8767669  0.87047032 0.88417716 0.89651332 0.89550672\n",
            " 0.90156772 0.89441446 0.910263   0.92174248 0.91960079 0.92259916\n",
            " 0.94851366 0.9485565  0.95827979 0.94752848 0.94975585 0.94710015\n",
            " 0.96277735 0.96933093 0.96299152 0.96179217 0.9457723  0.95566692\n",
            " 0.96457637 0.98487964 1.         0.9973443  0.98659299 0.98522231\n",
            " 0.98642166 0.97961107 0.97922556 0.98907736 0.98646449 0.99935749\n",
            " 0.99910049 0.99426026 0.98616465 0.98834918 0.93871558 0.93702728\n",
            " 0.93342006 0.92827588 0.92205358]\n",
            "5 day output [[0.9151671]]\n",
            "6 day input [0.76912533 0.79731003 0.82609441 0.82091151 0.82964962 0.84399897\n",
            " 0.85513578 0.85539279 0.86644393 0.8540221  0.87077015 0.87608156\n",
            " 0.86751478 0.86545875 0.87539621 0.86078986 0.87783775 0.8795511\n",
            " 0.88135012 0.84961021 0.84082926 0.83941575 0.83804506 0.82061167\n",
            " 0.81495759 0.82892144 0.84061509 0.8179988  0.81392958 0.78296068\n",
            " 0.80022274 0.82215369 0.80943202 0.80043691 0.80060824 0.81500043\n",
            " 0.80938919 0.833419   0.83744539 0.83646021 0.82712242 0.82870727\n",
            " 0.81894115 0.81851281 0.81170222 0.83346184 0.84639767 0.84108627\n",
            " 0.84545532 0.86108969 0.8638739  0.87244068 0.86588709 0.86168937\n",
            " 0.8767669  0.87047032 0.88417716 0.89651332 0.89550672 0.90156772\n",
            " 0.89441446 0.910263   0.92174248 0.91960079 0.92259916 0.94851366\n",
            " 0.9485565  0.95827979 0.94752848 0.94975585 0.94710015 0.96277735\n",
            " 0.96933093 0.96299152 0.96179217 0.9457723  0.95566692 0.96457637\n",
            " 0.98487964 1.         0.9973443  0.98659299 0.98522231 0.98642166\n",
            " 0.97961107 0.97922556 0.98907736 0.98646449 0.99935749 0.99910049\n",
            " 0.99426026 0.98616465 0.98834918 0.93871558 0.93702728 0.93342006\n",
            " 0.92827588 0.92205358 0.91516709]\n",
            "6 day output [[0.9079417]]\n",
            "7 day input [0.79731003 0.82609441 0.82091151 0.82964962 0.84399897 0.85513578\n",
            " 0.85539279 0.86644393 0.8540221  0.87077015 0.87608156 0.86751478\n",
            " 0.86545875 0.87539621 0.86078986 0.87783775 0.8795511  0.88135012\n",
            " 0.84961021 0.84082926 0.83941575 0.83804506 0.82061167 0.81495759\n",
            " 0.82892144 0.84061509 0.8179988  0.81392958 0.78296068 0.80022274\n",
            " 0.82215369 0.80943202 0.80043691 0.80060824 0.81500043 0.80938919\n",
            " 0.833419   0.83744539 0.83646021 0.82712242 0.82870727 0.81894115\n",
            " 0.81851281 0.81170222 0.83346184 0.84639767 0.84108627 0.84545532\n",
            " 0.86108969 0.8638739  0.87244068 0.86588709 0.86168937 0.8767669\n",
            " 0.87047032 0.88417716 0.89651332 0.89550672 0.90156772 0.89441446\n",
            " 0.910263   0.92174248 0.91960079 0.92259916 0.94851366 0.9485565\n",
            " 0.95827979 0.94752848 0.94975585 0.94710015 0.96277735 0.96933093\n",
            " 0.96299152 0.96179217 0.9457723  0.95566692 0.96457637 0.98487964\n",
            " 1.         0.9973443  0.98659299 0.98522231 0.98642166 0.97961107\n",
            " 0.97922556 0.98907736 0.98646449 0.99935749 0.99910049 0.99426026\n",
            " 0.98616465 0.98834918 0.93871558 0.93702728 0.93342006 0.92827588\n",
            " 0.92205358 0.91516709 0.9079417 ]\n",
            "7 day output [[0.90061]]\n",
            "8 day input [0.82609441 0.82091151 0.82964962 0.84399897 0.85513578 0.85539279\n",
            " 0.86644393 0.8540221  0.87077015 0.87608156 0.86751478 0.86545875\n",
            " 0.87539621 0.86078986 0.87783775 0.8795511  0.88135012 0.84961021\n",
            " 0.84082926 0.83941575 0.83804506 0.82061167 0.81495759 0.82892144\n",
            " 0.84061509 0.8179988  0.81392958 0.78296068 0.80022274 0.82215369\n",
            " 0.80943202 0.80043691 0.80060824 0.81500043 0.80938919 0.833419\n",
            " 0.83744539 0.83646021 0.82712242 0.82870727 0.81894115 0.81851281\n",
            " 0.81170222 0.83346184 0.84639767 0.84108627 0.84545532 0.86108969\n",
            " 0.8638739  0.87244068 0.86588709 0.86168937 0.8767669  0.87047032\n",
            " 0.88417716 0.89651332 0.89550672 0.90156772 0.89441446 0.910263\n",
            " 0.92174248 0.91960079 0.92259916 0.94851366 0.9485565  0.95827979\n",
            " 0.94752848 0.94975585 0.94710015 0.96277735 0.96933093 0.96299152\n",
            " 0.96179217 0.9457723  0.95566692 0.96457637 0.98487964 1.\n",
            " 0.9973443  0.98659299 0.98522231 0.98642166 0.97961107 0.97922556\n",
            " 0.98907736 0.98646449 0.99935749 0.99910049 0.99426026 0.98616465\n",
            " 0.98834918 0.93871558 0.93702728 0.93342006 0.92827588 0.92205358\n",
            " 0.91516709 0.9079417  0.90061003]\n",
            "8 day output [[0.89332557]]\n",
            "9 day input [0.82091151 0.82964962 0.84399897 0.85513578 0.85539279 0.86644393\n",
            " 0.8540221  0.87077015 0.87608156 0.86751478 0.86545875 0.87539621\n",
            " 0.86078986 0.87783775 0.8795511  0.88135012 0.84961021 0.84082926\n",
            " 0.83941575 0.83804506 0.82061167 0.81495759 0.82892144 0.84061509\n",
            " 0.8179988  0.81392958 0.78296068 0.80022274 0.82215369 0.80943202\n",
            " 0.80043691 0.80060824 0.81500043 0.80938919 0.833419   0.83744539\n",
            " 0.83646021 0.82712242 0.82870727 0.81894115 0.81851281 0.81170222\n",
            " 0.83346184 0.84639767 0.84108627 0.84545532 0.86108969 0.8638739\n",
            " 0.87244068 0.86588709 0.86168937 0.8767669  0.87047032 0.88417716\n",
            " 0.89651332 0.89550672 0.90156772 0.89441446 0.910263   0.92174248\n",
            " 0.91960079 0.92259916 0.94851366 0.9485565  0.95827979 0.94752848\n",
            " 0.94975585 0.94710015 0.96277735 0.96933093 0.96299152 0.96179217\n",
            " 0.9457723  0.95566692 0.96457637 0.98487964 1.         0.9973443\n",
            " 0.98659299 0.98522231 0.98642166 0.97961107 0.97922556 0.98907736\n",
            " 0.98646449 0.99935749 0.99910049 0.99426026 0.98616465 0.98834918\n",
            " 0.93871558 0.93702728 0.93342006 0.92827588 0.92205358 0.91516709\n",
            " 0.9079417  0.90061003 0.89332557]\n",
            "9 day output [[0.8861823]]\n",
            "10 day input [0.82964962 0.84399897 0.85513578 0.85539279 0.86644393 0.8540221\n",
            " 0.87077015 0.87608156 0.86751478 0.86545875 0.87539621 0.86078986\n",
            " 0.87783775 0.8795511  0.88135012 0.84961021 0.84082926 0.83941575\n",
            " 0.83804506 0.82061167 0.81495759 0.82892144 0.84061509 0.8179988\n",
            " 0.81392958 0.78296068 0.80022274 0.82215369 0.80943202 0.80043691\n",
            " 0.80060824 0.81500043 0.80938919 0.833419   0.83744539 0.83646021\n",
            " 0.82712242 0.82870727 0.81894115 0.81851281 0.81170222 0.83346184\n",
            " 0.84639767 0.84108627 0.84545532 0.86108969 0.8638739  0.87244068\n",
            " 0.86588709 0.86168937 0.8767669  0.87047032 0.88417716 0.89651332\n",
            " 0.89550672 0.90156772 0.89441446 0.910263   0.92174248 0.91960079\n",
            " 0.92259916 0.94851366 0.9485565  0.95827979 0.94752848 0.94975585\n",
            " 0.94710015 0.96277735 0.96933093 0.96299152 0.96179217 0.9457723\n",
            " 0.95566692 0.96457637 0.98487964 1.         0.9973443  0.98659299\n",
            " 0.98522231 0.98642166 0.97961107 0.97922556 0.98907736 0.98646449\n",
            " 0.99935749 0.99910049 0.99426026 0.98616465 0.98834918 0.93871558\n",
            " 0.93702728 0.93342006 0.92827588 0.92205358 0.91516709 0.9079417\n",
            " 0.90061003 0.89332557 0.88618231]\n",
            "10 day output [[0.8792338]]\n",
            "11 day input [0.84399897 0.85513578 0.85539279 0.86644393 0.8540221  0.87077015\n",
            " 0.87608156 0.86751478 0.86545875 0.87539621 0.86078986 0.87783775\n",
            " 0.8795511  0.88135012 0.84961021 0.84082926 0.83941575 0.83804506\n",
            " 0.82061167 0.81495759 0.82892144 0.84061509 0.8179988  0.81392958\n",
            " 0.78296068 0.80022274 0.82215369 0.80943202 0.80043691 0.80060824\n",
            " 0.81500043 0.80938919 0.833419   0.83744539 0.83646021 0.82712242\n",
            " 0.82870727 0.81894115 0.81851281 0.81170222 0.83346184 0.84639767\n",
            " 0.84108627 0.84545532 0.86108969 0.8638739  0.87244068 0.86588709\n",
            " 0.86168937 0.8767669  0.87047032 0.88417716 0.89651332 0.89550672\n",
            " 0.90156772 0.89441446 0.910263   0.92174248 0.91960079 0.92259916\n",
            " 0.94851366 0.9485565  0.95827979 0.94752848 0.94975585 0.94710015\n",
            " 0.96277735 0.96933093 0.96299152 0.96179217 0.9457723  0.95566692\n",
            " 0.96457637 0.98487964 1.         0.9973443  0.98659299 0.98522231\n",
            " 0.98642166 0.97961107 0.97922556 0.98907736 0.98646449 0.99935749\n",
            " 0.99910049 0.99426026 0.98616465 0.98834918 0.93871558 0.93702728\n",
            " 0.93342006 0.92827588 0.92205358 0.91516709 0.9079417  0.90061003\n",
            " 0.89332557 0.88618231 0.87923378]\n",
            "11 day output [[0.8725068]]\n",
            "12 day input [0.85513578 0.85539279 0.86644393 0.8540221  0.87077015 0.87608156\n",
            " 0.86751478 0.86545875 0.87539621 0.86078986 0.87783775 0.8795511\n",
            " 0.88135012 0.84961021 0.84082926 0.83941575 0.83804506 0.82061167\n",
            " 0.81495759 0.82892144 0.84061509 0.8179988  0.81392958 0.78296068\n",
            " 0.80022274 0.82215369 0.80943202 0.80043691 0.80060824 0.81500043\n",
            " 0.80938919 0.833419   0.83744539 0.83646021 0.82712242 0.82870727\n",
            " 0.81894115 0.81851281 0.81170222 0.83346184 0.84639767 0.84108627\n",
            " 0.84545532 0.86108969 0.8638739  0.87244068 0.86588709 0.86168937\n",
            " 0.8767669  0.87047032 0.88417716 0.89651332 0.89550672 0.90156772\n",
            " 0.89441446 0.910263   0.92174248 0.91960079 0.92259916 0.94851366\n",
            " 0.9485565  0.95827979 0.94752848 0.94975585 0.94710015 0.96277735\n",
            " 0.96933093 0.96299152 0.96179217 0.9457723  0.95566692 0.96457637\n",
            " 0.98487964 1.         0.9973443  0.98659299 0.98522231 0.98642166\n",
            " 0.97961107 0.97922556 0.98907736 0.98646449 0.99935749 0.99910049\n",
            " 0.99426026 0.98616465 0.98834918 0.93871558 0.93702728 0.93342006\n",
            " 0.92827588 0.92205358 0.91516709 0.9079417  0.90061003 0.89332557\n",
            " 0.88618231 0.87923378 0.8725068 ]\n",
            "12 day output [[0.8660117]]\n",
            "13 day input [0.85539279 0.86644393 0.8540221  0.87077015 0.87608156 0.86751478\n",
            " 0.86545875 0.87539621 0.86078986 0.87783775 0.8795511  0.88135012\n",
            " 0.84961021 0.84082926 0.83941575 0.83804506 0.82061167 0.81495759\n",
            " 0.82892144 0.84061509 0.8179988  0.81392958 0.78296068 0.80022274\n",
            " 0.82215369 0.80943202 0.80043691 0.80060824 0.81500043 0.80938919\n",
            " 0.833419   0.83744539 0.83646021 0.82712242 0.82870727 0.81894115\n",
            " 0.81851281 0.81170222 0.83346184 0.84639767 0.84108627 0.84545532\n",
            " 0.86108969 0.8638739  0.87244068 0.86588709 0.86168937 0.8767669\n",
            " 0.87047032 0.88417716 0.89651332 0.89550672 0.90156772 0.89441446\n",
            " 0.910263   0.92174248 0.91960079 0.92259916 0.94851366 0.9485565\n",
            " 0.95827979 0.94752848 0.94975585 0.94710015 0.96277735 0.96933093\n",
            " 0.96299152 0.96179217 0.9457723  0.95566692 0.96457637 0.98487964\n",
            " 1.         0.9973443  0.98659299 0.98522231 0.98642166 0.97961107\n",
            " 0.97922556 0.98907736 0.98646449 0.99935749 0.99910049 0.99426026\n",
            " 0.98616465 0.98834918 0.93871558 0.93702728 0.93342006 0.92827588\n",
            " 0.92205358 0.91516709 0.9079417  0.90061003 0.89332557 0.88618231\n",
            " 0.87923378 0.8725068  0.86601168]\n",
            "13 day output [[0.8597497]]\n",
            "14 day input [0.86644393 0.8540221  0.87077015 0.87608156 0.86751478 0.86545875\n",
            " 0.87539621 0.86078986 0.87783775 0.8795511  0.88135012 0.84961021\n",
            " 0.84082926 0.83941575 0.83804506 0.82061167 0.81495759 0.82892144\n",
            " 0.84061509 0.8179988  0.81392958 0.78296068 0.80022274 0.82215369\n",
            " 0.80943202 0.80043691 0.80060824 0.81500043 0.80938919 0.833419\n",
            " 0.83744539 0.83646021 0.82712242 0.82870727 0.81894115 0.81851281\n",
            " 0.81170222 0.83346184 0.84639767 0.84108627 0.84545532 0.86108969\n",
            " 0.8638739  0.87244068 0.86588709 0.86168937 0.8767669  0.87047032\n",
            " 0.88417716 0.89651332 0.89550672 0.90156772 0.89441446 0.910263\n",
            " 0.92174248 0.91960079 0.92259916 0.94851366 0.9485565  0.95827979\n",
            " 0.94752848 0.94975585 0.94710015 0.96277735 0.96933093 0.96299152\n",
            " 0.96179217 0.9457723  0.95566692 0.96457637 0.98487964 1.\n",
            " 0.9973443  0.98659299 0.98522231 0.98642166 0.97961107 0.97922556\n",
            " 0.98907736 0.98646449 0.99935749 0.99910049 0.99426026 0.98616465\n",
            " 0.98834918 0.93871558 0.93702728 0.93342006 0.92827588 0.92205358\n",
            " 0.91516709 0.9079417  0.90061003 0.89332557 0.88618231 0.87923378\n",
            " 0.8725068  0.86601168 0.85974967]\n",
            "14 day output [[0.8537173]]\n",
            "15 day input [0.8540221  0.87077015 0.87608156 0.86751478 0.86545875 0.87539621\n",
            " 0.86078986 0.87783775 0.8795511  0.88135012 0.84961021 0.84082926\n",
            " 0.83941575 0.83804506 0.82061167 0.81495759 0.82892144 0.84061509\n",
            " 0.8179988  0.81392958 0.78296068 0.80022274 0.82215369 0.80943202\n",
            " 0.80043691 0.80060824 0.81500043 0.80938919 0.833419   0.83744539\n",
            " 0.83646021 0.82712242 0.82870727 0.81894115 0.81851281 0.81170222\n",
            " 0.83346184 0.84639767 0.84108627 0.84545532 0.86108969 0.8638739\n",
            " 0.87244068 0.86588709 0.86168937 0.8767669  0.87047032 0.88417716\n",
            " 0.89651332 0.89550672 0.90156772 0.89441446 0.910263   0.92174248\n",
            " 0.91960079 0.92259916 0.94851366 0.9485565  0.95827979 0.94752848\n",
            " 0.94975585 0.94710015 0.96277735 0.96933093 0.96299152 0.96179217\n",
            " 0.9457723  0.95566692 0.96457637 0.98487964 1.         0.9973443\n",
            " 0.98659299 0.98522231 0.98642166 0.97961107 0.97922556 0.98907736\n",
            " 0.98646449 0.99935749 0.99910049 0.99426026 0.98616465 0.98834918\n",
            " 0.93871558 0.93702728 0.93342006 0.92827588 0.92205358 0.91516709\n",
            " 0.9079417  0.90061003 0.89332557 0.88618231 0.87923378 0.8725068\n",
            " 0.86601168 0.85974967 0.85371733]\n",
            "15 day output [[0.84790903]]\n",
            "16 day input [0.87077015 0.87608156 0.86751478 0.86545875 0.87539621 0.86078986\n",
            " 0.87783775 0.8795511  0.88135012 0.84961021 0.84082926 0.83941575\n",
            " 0.83804506 0.82061167 0.81495759 0.82892144 0.84061509 0.8179988\n",
            " 0.81392958 0.78296068 0.80022274 0.82215369 0.80943202 0.80043691\n",
            " 0.80060824 0.81500043 0.80938919 0.833419   0.83744539 0.83646021\n",
            " 0.82712242 0.82870727 0.81894115 0.81851281 0.81170222 0.83346184\n",
            " 0.84639767 0.84108627 0.84545532 0.86108969 0.8638739  0.87244068\n",
            " 0.86588709 0.86168937 0.8767669  0.87047032 0.88417716 0.89651332\n",
            " 0.89550672 0.90156772 0.89441446 0.910263   0.92174248 0.91960079\n",
            " 0.92259916 0.94851366 0.9485565  0.95827979 0.94752848 0.94975585\n",
            " 0.94710015 0.96277735 0.96933093 0.96299152 0.96179217 0.9457723\n",
            " 0.95566692 0.96457637 0.98487964 1.         0.9973443  0.98659299\n",
            " 0.98522231 0.98642166 0.97961107 0.97922556 0.98907736 0.98646449\n",
            " 0.99935749 0.99910049 0.99426026 0.98616465 0.98834918 0.93871558\n",
            " 0.93702728 0.93342006 0.92827588 0.92205358 0.91516709 0.9079417\n",
            " 0.90061003 0.89332557 0.88618231 0.87923378 0.8725068  0.86601168\n",
            " 0.85974967 0.85371733 0.84790903]\n",
            "16 day output [[0.8423173]]\n",
            "17 day input [0.87608156 0.86751478 0.86545875 0.87539621 0.86078986 0.87783775\n",
            " 0.8795511  0.88135012 0.84961021 0.84082926 0.83941575 0.83804506\n",
            " 0.82061167 0.81495759 0.82892144 0.84061509 0.8179988  0.81392958\n",
            " 0.78296068 0.80022274 0.82215369 0.80943202 0.80043691 0.80060824\n",
            " 0.81500043 0.80938919 0.833419   0.83744539 0.83646021 0.82712242\n",
            " 0.82870727 0.81894115 0.81851281 0.81170222 0.83346184 0.84639767\n",
            " 0.84108627 0.84545532 0.86108969 0.8638739  0.87244068 0.86588709\n",
            " 0.86168937 0.8767669  0.87047032 0.88417716 0.89651332 0.89550672\n",
            " 0.90156772 0.89441446 0.910263   0.92174248 0.91960079 0.92259916\n",
            " 0.94851366 0.9485565  0.95827979 0.94752848 0.94975585 0.94710015\n",
            " 0.96277735 0.96933093 0.96299152 0.96179217 0.9457723  0.95566692\n",
            " 0.96457637 0.98487964 1.         0.9973443  0.98659299 0.98522231\n",
            " 0.98642166 0.97961107 0.97922556 0.98907736 0.98646449 0.99935749\n",
            " 0.99910049 0.99426026 0.98616465 0.98834918 0.93871558 0.93702728\n",
            " 0.93342006 0.92827588 0.92205358 0.91516709 0.9079417  0.90061003\n",
            " 0.89332557 0.88618231 0.87923378 0.8725068  0.86601168 0.85974967\n",
            " 0.85371733 0.84790903 0.84231728]\n",
            "17 day output [[0.8369355]]\n",
            "18 day input [0.86751478 0.86545875 0.87539621 0.86078986 0.87783775 0.8795511\n",
            " 0.88135012 0.84961021 0.84082926 0.83941575 0.83804506 0.82061167\n",
            " 0.81495759 0.82892144 0.84061509 0.8179988  0.81392958 0.78296068\n",
            " 0.80022274 0.82215369 0.80943202 0.80043691 0.80060824 0.81500043\n",
            " 0.80938919 0.833419   0.83744539 0.83646021 0.82712242 0.82870727\n",
            " 0.81894115 0.81851281 0.81170222 0.83346184 0.84639767 0.84108627\n",
            " 0.84545532 0.86108969 0.8638739  0.87244068 0.86588709 0.86168937\n",
            " 0.8767669  0.87047032 0.88417716 0.89651332 0.89550672 0.90156772\n",
            " 0.89441446 0.910263   0.92174248 0.91960079 0.92259916 0.94851366\n",
            " 0.9485565  0.95827979 0.94752848 0.94975585 0.94710015 0.96277735\n",
            " 0.96933093 0.96299152 0.96179217 0.9457723  0.95566692 0.96457637\n",
            " 0.98487964 1.         0.9973443  0.98659299 0.98522231 0.98642166\n",
            " 0.97961107 0.97922556 0.98907736 0.98646449 0.99935749 0.99910049\n",
            " 0.99426026 0.98616465 0.98834918 0.93871558 0.93702728 0.93342006\n",
            " 0.92827588 0.92205358 0.91516709 0.9079417  0.90061003 0.89332557\n",
            " 0.88618231 0.87923378 0.8725068  0.86601168 0.85974967 0.85371733\n",
            " 0.84790903 0.84231728 0.83693552]\n",
            "18 day output [[0.83175606]]\n",
            "19 day input [0.86545875 0.87539621 0.86078986 0.87783775 0.8795511  0.88135012\n",
            " 0.84961021 0.84082926 0.83941575 0.83804506 0.82061167 0.81495759\n",
            " 0.82892144 0.84061509 0.8179988  0.81392958 0.78296068 0.80022274\n",
            " 0.82215369 0.80943202 0.80043691 0.80060824 0.81500043 0.80938919\n",
            " 0.833419   0.83744539 0.83646021 0.82712242 0.82870727 0.81894115\n",
            " 0.81851281 0.81170222 0.83346184 0.84639767 0.84108627 0.84545532\n",
            " 0.86108969 0.8638739  0.87244068 0.86588709 0.86168937 0.8767669\n",
            " 0.87047032 0.88417716 0.89651332 0.89550672 0.90156772 0.89441446\n",
            " 0.910263   0.92174248 0.91960079 0.92259916 0.94851366 0.9485565\n",
            " 0.95827979 0.94752848 0.94975585 0.94710015 0.96277735 0.96933093\n",
            " 0.96299152 0.96179217 0.9457723  0.95566692 0.96457637 0.98487964\n",
            " 1.         0.9973443  0.98659299 0.98522231 0.98642166 0.97961107\n",
            " 0.97922556 0.98907736 0.98646449 0.99935749 0.99910049 0.99426026\n",
            " 0.98616465 0.98834918 0.93871558 0.93702728 0.93342006 0.92827588\n",
            " 0.92205358 0.91516709 0.9079417  0.90061003 0.89332557 0.88618231\n",
            " 0.87923378 0.8725068  0.86601168 0.85974967 0.85371733 0.84790903\n",
            " 0.84231728 0.83693552 0.83175606]\n",
            "19 day output [[0.82677144]]\n",
            "20 day input [0.87539621 0.86078986 0.87783775 0.8795511  0.88135012 0.84961021\n",
            " 0.84082926 0.83941575 0.83804506 0.82061167 0.81495759 0.82892144\n",
            " 0.84061509 0.8179988  0.81392958 0.78296068 0.80022274 0.82215369\n",
            " 0.80943202 0.80043691 0.80060824 0.81500043 0.80938919 0.833419\n",
            " 0.83744539 0.83646021 0.82712242 0.82870727 0.81894115 0.81851281\n",
            " 0.81170222 0.83346184 0.84639767 0.84108627 0.84545532 0.86108969\n",
            " 0.8638739  0.87244068 0.86588709 0.86168937 0.8767669  0.87047032\n",
            " 0.88417716 0.89651332 0.89550672 0.90156772 0.89441446 0.910263\n",
            " 0.92174248 0.91960079 0.92259916 0.94851366 0.9485565  0.95827979\n",
            " 0.94752848 0.94975585 0.94710015 0.96277735 0.96933093 0.96299152\n",
            " 0.96179217 0.9457723  0.95566692 0.96457637 0.98487964 1.\n",
            " 0.9973443  0.98659299 0.98522231 0.98642166 0.97961107 0.97922556\n",
            " 0.98907736 0.98646449 0.99935749 0.99910049 0.99426026 0.98616465\n",
            " 0.98834918 0.93871558 0.93702728 0.93342006 0.92827588 0.92205358\n",
            " 0.91516709 0.9079417  0.90061003 0.89332557 0.88618231 0.87923378\n",
            " 0.8725068  0.86601168 0.85974967 0.85371733 0.84790903 0.84231728\n",
            " 0.83693552 0.83175606 0.82677144]\n",
            "20 day output [[0.8219738]]\n",
            "21 day input [0.86078986 0.87783775 0.8795511  0.88135012 0.84961021 0.84082926\n",
            " 0.83941575 0.83804506 0.82061167 0.81495759 0.82892144 0.84061509\n",
            " 0.8179988  0.81392958 0.78296068 0.80022274 0.82215369 0.80943202\n",
            " 0.80043691 0.80060824 0.81500043 0.80938919 0.833419   0.83744539\n",
            " 0.83646021 0.82712242 0.82870727 0.81894115 0.81851281 0.81170222\n",
            " 0.83346184 0.84639767 0.84108627 0.84545532 0.86108969 0.8638739\n",
            " 0.87244068 0.86588709 0.86168937 0.8767669  0.87047032 0.88417716\n",
            " 0.89651332 0.89550672 0.90156772 0.89441446 0.910263   0.92174248\n",
            " 0.91960079 0.92259916 0.94851366 0.9485565  0.95827979 0.94752848\n",
            " 0.94975585 0.94710015 0.96277735 0.96933093 0.96299152 0.96179217\n",
            " 0.9457723  0.95566692 0.96457637 0.98487964 1.         0.9973443\n",
            " 0.98659299 0.98522231 0.98642166 0.97961107 0.97922556 0.98907736\n",
            " 0.98646449 0.99935749 0.99910049 0.99426026 0.98616465 0.98834918\n",
            " 0.93871558 0.93702728 0.93342006 0.92827588 0.92205358 0.91516709\n",
            " 0.9079417  0.90061003 0.89332557 0.88618231 0.87923378 0.8725068\n",
            " 0.86601168 0.85974967 0.85371733 0.84790903 0.84231728 0.83693552\n",
            " 0.83175606 0.82677144 0.8219738 ]\n",
            "21 day output [[0.81735647]]\n",
            "22 day input [0.87783775 0.8795511  0.88135012 0.84961021 0.84082926 0.83941575\n",
            " 0.83804506 0.82061167 0.81495759 0.82892144 0.84061509 0.8179988\n",
            " 0.81392958 0.78296068 0.80022274 0.82215369 0.80943202 0.80043691\n",
            " 0.80060824 0.81500043 0.80938919 0.833419   0.83744539 0.83646021\n",
            " 0.82712242 0.82870727 0.81894115 0.81851281 0.81170222 0.83346184\n",
            " 0.84639767 0.84108627 0.84545532 0.86108969 0.8638739  0.87244068\n",
            " 0.86588709 0.86168937 0.8767669  0.87047032 0.88417716 0.89651332\n",
            " 0.89550672 0.90156772 0.89441446 0.910263   0.92174248 0.91960079\n",
            " 0.92259916 0.94851366 0.9485565  0.95827979 0.94752848 0.94975585\n",
            " 0.94710015 0.96277735 0.96933093 0.96299152 0.96179217 0.9457723\n",
            " 0.95566692 0.96457637 0.98487964 1.         0.9973443  0.98659299\n",
            " 0.98522231 0.98642166 0.97961107 0.97922556 0.98907736 0.98646449\n",
            " 0.99935749 0.99910049 0.99426026 0.98616465 0.98834918 0.93871558\n",
            " 0.93702728 0.93342006 0.92827588 0.92205358 0.91516709 0.9079417\n",
            " 0.90061003 0.89332557 0.88618231 0.87923378 0.8725068  0.86601168\n",
            " 0.85974967 0.85371733 0.84790903 0.84231728 0.83693552 0.83175606\n",
            " 0.82677144 0.8219738  0.81735647]\n",
            "22 day output [[0.8129114]]\n",
            "23 day input [0.8795511  0.88135012 0.84961021 0.84082926 0.83941575 0.83804506\n",
            " 0.82061167 0.81495759 0.82892144 0.84061509 0.8179988  0.81392958\n",
            " 0.78296068 0.80022274 0.82215369 0.80943202 0.80043691 0.80060824\n",
            " 0.81500043 0.80938919 0.833419   0.83744539 0.83646021 0.82712242\n",
            " 0.82870727 0.81894115 0.81851281 0.81170222 0.83346184 0.84639767\n",
            " 0.84108627 0.84545532 0.86108969 0.8638739  0.87244068 0.86588709\n",
            " 0.86168937 0.8767669  0.87047032 0.88417716 0.89651332 0.89550672\n",
            " 0.90156772 0.89441446 0.910263   0.92174248 0.91960079 0.92259916\n",
            " 0.94851366 0.9485565  0.95827979 0.94752848 0.94975585 0.94710015\n",
            " 0.96277735 0.96933093 0.96299152 0.96179217 0.9457723  0.95566692\n",
            " 0.96457637 0.98487964 1.         0.9973443  0.98659299 0.98522231\n",
            " 0.98642166 0.97961107 0.97922556 0.98907736 0.98646449 0.99935749\n",
            " 0.99910049 0.99426026 0.98616465 0.98834918 0.93871558 0.93702728\n",
            " 0.93342006 0.92827588 0.92205358 0.91516709 0.9079417  0.90061003\n",
            " 0.89332557 0.88618231 0.87923378 0.8725068  0.86601168 0.85974967\n",
            " 0.85371733 0.84790903 0.84231728 0.83693552 0.83175606 0.82677144\n",
            " 0.8219738  0.81735647 0.81291139]\n",
            "23 day output [[0.80863106]]\n",
            "24 day input [0.88135012 0.84961021 0.84082926 0.83941575 0.83804506 0.82061167\n",
            " 0.81495759 0.82892144 0.84061509 0.8179988  0.81392958 0.78296068\n",
            " 0.80022274 0.82215369 0.80943202 0.80043691 0.80060824 0.81500043\n",
            " 0.80938919 0.833419   0.83744539 0.83646021 0.82712242 0.82870727\n",
            " 0.81894115 0.81851281 0.81170222 0.83346184 0.84639767 0.84108627\n",
            " 0.84545532 0.86108969 0.8638739  0.87244068 0.86588709 0.86168937\n",
            " 0.8767669  0.87047032 0.88417716 0.89651332 0.89550672 0.90156772\n",
            " 0.89441446 0.910263   0.92174248 0.91960079 0.92259916 0.94851366\n",
            " 0.9485565  0.95827979 0.94752848 0.94975585 0.94710015 0.96277735\n",
            " 0.96933093 0.96299152 0.96179217 0.9457723  0.95566692 0.96457637\n",
            " 0.98487964 1.         0.9973443  0.98659299 0.98522231 0.98642166\n",
            " 0.97961107 0.97922556 0.98907736 0.98646449 0.99935749 0.99910049\n",
            " 0.99426026 0.98616465 0.98834918 0.93871558 0.93702728 0.93342006\n",
            " 0.92827588 0.92205358 0.91516709 0.9079417  0.90061003 0.89332557\n",
            " 0.88618231 0.87923378 0.8725068  0.86601168 0.85974967 0.85371733\n",
            " 0.84790903 0.84231728 0.83693552 0.83175606 0.82677144 0.8219738\n",
            " 0.81735647 0.81291139 0.80863106]\n",
            "24 day output [[0.8045086]]\n",
            "25 day input [0.84961021 0.84082926 0.83941575 0.83804506 0.82061167 0.81495759\n",
            " 0.82892144 0.84061509 0.8179988  0.81392958 0.78296068 0.80022274\n",
            " 0.82215369 0.80943202 0.80043691 0.80060824 0.81500043 0.80938919\n",
            " 0.833419   0.83744539 0.83646021 0.82712242 0.82870727 0.81894115\n",
            " 0.81851281 0.81170222 0.83346184 0.84639767 0.84108627 0.84545532\n",
            " 0.86108969 0.8638739  0.87244068 0.86588709 0.86168937 0.8767669\n",
            " 0.87047032 0.88417716 0.89651332 0.89550672 0.90156772 0.89441446\n",
            " 0.910263   0.92174248 0.91960079 0.92259916 0.94851366 0.9485565\n",
            " 0.95827979 0.94752848 0.94975585 0.94710015 0.96277735 0.96933093\n",
            " 0.96299152 0.96179217 0.9457723  0.95566692 0.96457637 0.98487964\n",
            " 1.         0.9973443  0.98659299 0.98522231 0.98642166 0.97961107\n",
            " 0.97922556 0.98907736 0.98646449 0.99935749 0.99910049 0.99426026\n",
            " 0.98616465 0.98834918 0.93871558 0.93702728 0.93342006 0.92827588\n",
            " 0.92205358 0.91516709 0.9079417  0.90061003 0.89332557 0.88618231\n",
            " 0.87923378 0.8725068  0.86601168 0.85974967 0.85371733 0.84790903\n",
            " 0.84231728 0.83693552 0.83175606 0.82677144 0.8219738  0.81735647\n",
            " 0.81291139 0.80863106 0.80450863]\n",
            "25 day output [[0.80053663]]\n",
            "26 day input [0.84082926 0.83941575 0.83804506 0.82061167 0.81495759 0.82892144\n",
            " 0.84061509 0.8179988  0.81392958 0.78296068 0.80022274 0.82215369\n",
            " 0.80943202 0.80043691 0.80060824 0.81500043 0.80938919 0.833419\n",
            " 0.83744539 0.83646021 0.82712242 0.82870727 0.81894115 0.81851281\n",
            " 0.81170222 0.83346184 0.84639767 0.84108627 0.84545532 0.86108969\n",
            " 0.8638739  0.87244068 0.86588709 0.86168937 0.8767669  0.87047032\n",
            " 0.88417716 0.89651332 0.89550672 0.90156772 0.89441446 0.910263\n",
            " 0.92174248 0.91960079 0.92259916 0.94851366 0.9485565  0.95827979\n",
            " 0.94752848 0.94975585 0.94710015 0.96277735 0.96933093 0.96299152\n",
            " 0.96179217 0.9457723  0.95566692 0.96457637 0.98487964 1.\n",
            " 0.9973443  0.98659299 0.98522231 0.98642166 0.97961107 0.97922556\n",
            " 0.98907736 0.98646449 0.99935749 0.99910049 0.99426026 0.98616465\n",
            " 0.98834918 0.93871558 0.93702728 0.93342006 0.92827588 0.92205358\n",
            " 0.91516709 0.9079417  0.90061003 0.89332557 0.88618231 0.87923378\n",
            " 0.8725068  0.86601168 0.85974967 0.85371733 0.84790903 0.84231728\n",
            " 0.83693552 0.83175606 0.82677144 0.8219738  0.81735647 0.81291139\n",
            " 0.80863106 0.80450863 0.80053663]\n",
            "26 day output [[0.79670805]]\n",
            "27 day input [0.83941575 0.83804506 0.82061167 0.81495759 0.82892144 0.84061509\n",
            " 0.8179988  0.81392958 0.78296068 0.80022274 0.82215369 0.80943202\n",
            " 0.80043691 0.80060824 0.81500043 0.80938919 0.833419   0.83744539\n",
            " 0.83646021 0.82712242 0.82870727 0.81894115 0.81851281 0.81170222\n",
            " 0.83346184 0.84639767 0.84108627 0.84545532 0.86108969 0.8638739\n",
            " 0.87244068 0.86588709 0.86168937 0.8767669  0.87047032 0.88417716\n",
            " 0.89651332 0.89550672 0.90156772 0.89441446 0.910263   0.92174248\n",
            " 0.91960079 0.92259916 0.94851366 0.9485565  0.95827979 0.94752848\n",
            " 0.94975585 0.94710015 0.96277735 0.96933093 0.96299152 0.96179217\n",
            " 0.9457723  0.95566692 0.96457637 0.98487964 1.         0.9973443\n",
            " 0.98659299 0.98522231 0.98642166 0.97961107 0.97922556 0.98907736\n",
            " 0.98646449 0.99935749 0.99910049 0.99426026 0.98616465 0.98834918\n",
            " 0.93871558 0.93702728 0.93342006 0.92827588 0.92205358 0.91516709\n",
            " 0.9079417  0.90061003 0.89332557 0.88618231 0.87923378 0.8725068\n",
            " 0.86601168 0.85974967 0.85371733 0.84790903 0.84231728 0.83693552\n",
            " 0.83175606 0.82677144 0.8219738  0.81735647 0.81291139 0.80863106\n",
            " 0.80450863 0.80053663 0.79670805]\n",
            "27 day output [[0.7930159]]\n",
            "28 day input [0.83804506 0.82061167 0.81495759 0.82892144 0.84061509 0.8179988\n",
            " 0.81392958 0.78296068 0.80022274 0.82215369 0.80943202 0.80043691\n",
            " 0.80060824 0.81500043 0.80938919 0.833419   0.83744539 0.83646021\n",
            " 0.82712242 0.82870727 0.81894115 0.81851281 0.81170222 0.83346184\n",
            " 0.84639767 0.84108627 0.84545532 0.86108969 0.8638739  0.87244068\n",
            " 0.86588709 0.86168937 0.8767669  0.87047032 0.88417716 0.89651332\n",
            " 0.89550672 0.90156772 0.89441446 0.910263   0.92174248 0.91960079\n",
            " 0.92259916 0.94851366 0.9485565  0.95827979 0.94752848 0.94975585\n",
            " 0.94710015 0.96277735 0.96933093 0.96299152 0.96179217 0.9457723\n",
            " 0.95566692 0.96457637 0.98487964 1.         0.9973443  0.98659299\n",
            " 0.98522231 0.98642166 0.97961107 0.97922556 0.98907736 0.98646449\n",
            " 0.99935749 0.99910049 0.99426026 0.98616465 0.98834918 0.93871558\n",
            " 0.93702728 0.93342006 0.92827588 0.92205358 0.91516709 0.9079417\n",
            " 0.90061003 0.89332557 0.88618231 0.87923378 0.8725068  0.86601168\n",
            " 0.85974967 0.85371733 0.84790903 0.84231728 0.83693552 0.83175606\n",
            " 0.82677144 0.8219738  0.81735647 0.81291139 0.80863106 0.80450863\n",
            " 0.80053663 0.79670805 0.7930159 ]\n",
            "28 day output [[0.789454]]\n",
            "29 day input [0.82061167 0.81495759 0.82892144 0.84061509 0.8179988  0.81392958\n",
            " 0.78296068 0.80022274 0.82215369 0.80943202 0.80043691 0.80060824\n",
            " 0.81500043 0.80938919 0.833419   0.83744539 0.83646021 0.82712242\n",
            " 0.82870727 0.81894115 0.81851281 0.81170222 0.83346184 0.84639767\n",
            " 0.84108627 0.84545532 0.86108969 0.8638739  0.87244068 0.86588709\n",
            " 0.86168937 0.8767669  0.87047032 0.88417716 0.89651332 0.89550672\n",
            " 0.90156772 0.89441446 0.910263   0.92174248 0.91960079 0.92259916\n",
            " 0.94851366 0.9485565  0.95827979 0.94752848 0.94975585 0.94710015\n",
            " 0.96277735 0.96933093 0.96299152 0.96179217 0.9457723  0.95566692\n",
            " 0.96457637 0.98487964 1.         0.9973443  0.98659299 0.98522231\n",
            " 0.98642166 0.97961107 0.97922556 0.98907736 0.98646449 0.99935749\n",
            " 0.99910049 0.99426026 0.98616465 0.98834918 0.93871558 0.93702728\n",
            " 0.93342006 0.92827588 0.92205358 0.91516709 0.9079417  0.90061003\n",
            " 0.89332557 0.88618231 0.87923378 0.8725068  0.86601168 0.85974967\n",
            " 0.85371733 0.84790903 0.84231728 0.83693552 0.83175606 0.82677144\n",
            " 0.8219738  0.81735647 0.81291139 0.80863106 0.80450863 0.80053663\n",
            " 0.79670805 0.7930159  0.78945398]\n",
            "29 day output [[0.78601575]]\n"
          ],
          "name": "stdout"
        }
      ]
    },
    {
      "cell_type": "code",
      "metadata": {
        "id": "jU-Ml4ODbuVO"
      },
      "source": [
        "day_new=np.arange(1,101)\n",
        "day_pred=np.arange(101,131)"
      ],
      "execution_count": null,
      "outputs": []
    },
    {
      "cell_type": "code",
      "metadata": {
        "id": "_wx1Z2x3buVQ",
        "colab": {
          "base_uri": "https://localhost:8080/",
          "height": 374
        },
        "outputId": "f11220cb-0b99-4762-f812-96f2b6a2b5eb"
      },
      "source": [
        "plt.plot(day_new,scaler.inverse_transform(df1[1157:]));\n",
        "plt.plot(day_pred,scaler.inverse_transform(lst_output));"
      ],
      "execution_count": null,
      "outputs": [
        {
          "output_type": "display_data",
          "data": {
            "image/png": "[encoded data removed]",
            "text/plain": [
              "<Figure size 1152x432 with 1 Axes>"
            ]
          },
          "metadata": {
            "tags": [],
            "needs_background": "light"
          }
        }
      ]
    },
    {
      "cell_type": "code",
      "metadata": {
        "id": "fE1XqiT7buVR",
        "colab": {
          "base_uri": "https://localhost:8080/",
          "height": 374
        },
        "outputId": "3550b1b7-89ed-4d2d-86be-6c9d96f59c97"
      },
      "source": [
        "df3=df1.tolist()\n",
        "df3.extend(lst_output)\n",
        "plt.plot(df3[1200:]);"
      ],
      "execution_count": null,
      "outputs": [
        {
          "output_type": "display_data",
          "data": {
            "image/png": "[encoded data removed]",
            "text/plain": [
              "<Figure size 1152x432 with 1 Axes>"
            ]
          },
          "metadata": {
            "tags": [],
            "needs_background": "light"
          }
        }
      ]
    },
    {
      "cell_type": "code",
      "metadata": {
        "id": "5Zc6VurDbuVR"
      },
      "source": [
        "df3=scaler.inverse_transform(df3).tolist()"
      ],
      "execution_count": null,
      "outputs": []
    },
    {
      "cell_type": "code",
      "metadata": {
        "id": "H3lTJijXbuVS",
        "colab": {
          "base_uri": "https://localhost:8080/",
          "height": 376
        },
        "outputId": "33b18962-43e3-47af-bb5d-8fff382d6777"
      },
      "source": [
        "plt.plot(df3);"
      ],
      "execution_count": null,
      "outputs": [
        {
          "output_type": "display_data",
          "data": {
            "image/png": "[encoded data removed]",
            "text/plain": [
              "<Figure size 1152x432 with 1 Axes>"
            ]
          },
          "metadata": {
            "tags": [],
            "needs_background": "light"
          }
        }
      ]
    },
    {
      "cell_type": "code",
      "metadata": {
        "id": "WyEV2r5yRg39"
      },
      "source": [
        ""
      ],
      "execution_count": null,
      "outputs": []
    },
    {
      "cell_type": "markdown",
      "metadata": {
        "id": "3gv-9CmRmY35"
      },
      "source": [
        ""
      ]
    },
    {
      "cell_type": "markdown",
      "metadata": {
        "id": "-6nOamrRmTtf"
      },
      "source": [
        "Reference Video Link: https://www.youtube.com/watch?v=H6du_pfuznE&t=260s"
      ]
    },
    {
      "cell_type": "code",
      "metadata": {
        "id": "ZyYslOjPRhWO"
      },
      "source": [
        ""
      ],
      "execution_count": null,
      "outputs": []
    }
  ]
}