{
  "nbformat": 4,
  "nbformat_minor": 0,
  "metadata": {
    "colab": {
      "name": "Working_LSTM.ipynb",
      "provenance": [],
      "authorship_tag": "ABX9TyPTm0M8vrCsGwxkxso3bL2Q",
      "include_colab_link": true
    },
    "kernelspec": {
      "name": "python3",
      "display_name": "Python 3"
    },
    "language_info": {
      "name": "python"
    }
  },
  "cells": [
    {
      "cell_type": "markdown",
      "metadata": {
        "id": "view-in-github",
        "colab_type": "text"
      },
      "source": [
        "<a href=\"https://colab.research.google.com/github/krushalshah/AI-ML-Internship/blob/main/Working_LSTM.ipynb\" target=\"_parent\"><img src=\"https://colab.research.google.com/assets/colab-badge.svg\" alt=\"Open In Colab\"/></a>"
      ]
    },
    {
      "cell_type": "code",
      "metadata": {
        "id": "jm3g0K6zjVxA"
      },
      "source": [
        "import pandas as pd\n",
        "import numpy as np\n",
        "import matplotlib.pyplot as plt\n",
        "from matplotlib import rcParams\n",
        "#For LSTM (Remember to copy this section for implementing lstm in all the other stocks)\n",
        "import keras\n",
        "from keras.models import Sequential\n",
        "from keras.layers import Dense\n",
        "from keras.layers import LSTM\n",
        "from sklearn.model_selection import train_test_split\n",
        "rcParams['figure.figsize'] = 16,6"
      ],
      "execution_count": null,
      "outputs": []
    },
    {
      "cell_type": "code",
      "metadata": {
        "id": "T_8_5Y_cj57d"
      },
      "source": [
        "data = [[[i+j/100] for i in range(5)]for j in range(100)]\n",
        "target = [(i+5/100) for i in range (100)]"
      ],
      "execution_count": null,
      "outputs": []
    },
    {
      "cell_type": "code",
      "metadata": {
        "id": "T2kPm-iJkTuj"
      },
      "source": [
        "data = np.array(data,dtype = float)\n",
        "target = np.array(target,dtype=float)"
      ],
      "execution_count": null,
      "outputs": []
    },
    {
      "cell_type": "code",
      "metadata": {
        "colab": {
          "base_uri": "https://localhost:8080/"
        },
        "id": "mcJNyKhakrY9",
        "outputId": "b0f29c7e-f36e-4db1-d1f5-624abc341b42"
      },
      "source": [
        "data.shape"
      ],
      "execution_count": null,
      "outputs": [
        {
          "output_type": "execute_result",
          "data": {
            "text/plain": [
              "(100, 5, 1)"
            ]
          },
          "metadata": {
            "tags": []
          },
          "execution_count": 4
        }
      ]
    },
    {
      "cell_type": "code",
      "metadata": {
        "colab": {
          "base_uri": "https://localhost:8080/"
        },
        "id": "T_5EYVshktXT",
        "outputId": "3c5231ca-dd18-414d-e42a-86eee8b8885f"
      },
      "source": [
        "target.shape"
      ],
      "execution_count": null,
      "outputs": [
        {
          "output_type": "execute_result",
          "data": {
            "text/plain": [
              "(100,)"
            ]
          },
          "metadata": {
            "tags": []
          },
          "execution_count": 5
        }
      ]
    },
    {
      "cell_type": "code",
      "metadata": {
        "id": "7hm7pgcBkxvT"
      },
      "source": [
        "x_train,x_test,y_train,y_test = train_test_split(data,target,test_size=0.2,random_state=4)"
      ],
      "execution_count": null,
      "outputs": []
    },
    {
      "cell_type": "code",
      "metadata": {
        "id": "_FFoY902Uk7X"
      },
      "source": [
        "model = Sequential()"
      ],
      "execution_count": null,
      "outputs": []
    },
    {
      "cell_type": "code",
      "metadata": {
        "id": "DBjhl0ehL1Nt"
      },
      "source": [
        "model.add(LSTM((1),batch_input_shape=(None,None,1),return_sequences=True))\n",
        "model.add(LSTM((1),return_sequences=False))"
      ],
      "execution_count": null,
      "outputs": []
    },
    {
      "cell_type": "code",
      "metadata": {
        "id": "pTB5vt1YMqZ_"
      },
      "source": [
        "model.compile(loss='mean_absolute_error',optimizer='adam',metrics=['accuracy'])"
      ],
      "execution_count": null,
      "outputs": []
    },
    {
      "cell_type": "code",
      "metadata": {
        "colab": {
          "base_uri": "https://localhost:8080/"
        },
        "id": "rnn7Yb4hM8v8",
        "outputId": "36caf52a-3ae0-4b31-d7ba-feeef751c376"
      },
      "source": [
        "model.summary()"
      ],
      "execution_count": null,
      "outputs": [
        {
          "output_type": "stream",
          "text": [
            "Model: \"sequential_7\"\n",
            "_________________________________________________________________\n",
            "Layer (type)                 Output Shape              Param #   \n",
            "=================================================================\n",
            "lstm_24 (LSTM)               (None, None, 1)           12        \n",
            "_________________________________________________________________\n",
            "lstm_25 (LSTM)               (None, 1)                 12        \n",
            "=================================================================\n",
            "Total params: 24\n",
            "Trainable params: 24\n",
            "Non-trainable params: 0\n",
            "_________________________________________________________________\n"
          ],
          "name": "stdout"
        }
      ]
    },
    {
      "cell_type": "code",
      "metadata": {
        "colab": {
          "base_uri": "https://localhost:8080/"
        },
        "id": "Z6CNWuFVNBo0",
        "outputId": "561cf506-3129-4539-c876-845d1accda24"
      },
      "source": [
        "history = model.fit(x_train,y_train,epochs=200,validation_data=(x_test,y_test))"
      ],
      "execution_count": null,
      "outputs": [
        {
          "output_type": "stream",
          "text": [
            "Epoch 1/200\n",
            "3/3 [==============================] - 0s 29ms/step - loss: 51.5764 - accuracy: 0.0000e+00 - val_loss: 40.6321 - val_accuracy: 0.0000e+00\n",
            "Epoch 2/200\n",
            "3/3 [==============================] - 0s 16ms/step - loss: 51.5715 - accuracy: 0.0000e+00 - val_loss: 40.6269 - val_accuracy: 0.0000e+00\n",
            "Epoch 3/200\n",
            "3/3 [==============================] - 0s 15ms/step - loss: 51.5664 - accuracy: 0.0000e+00 - val_loss: 40.6216 - val_accuracy: 0.0000e+00\n",
            "Epoch 4/200\n",
            "3/3 [==============================] - 0s 16ms/step - loss: 51.5612 - accuracy: 0.0000e+00 - val_loss: 40.6162 - val_accuracy: 0.0000e+00\n",
            "Epoch 5/200\n",
            "3/3 [==============================] - 0s 15ms/step - loss: 51.5559 - accuracy: 0.0000e+00 - val_loss: 40.6107 - val_accuracy: 0.0000e+00\n",
            "Epoch 6/200\n",
            "3/3 [==============================] - 0s 15ms/step - loss: 51.5506 - accuracy: 0.0000e+00 - val_loss: 40.6052 - val_accuracy: 0.0000e+00\n",
            "Epoch 7/200\n",
            "3/3 [==============================] - 0s 15ms/step - loss: 51.5451 - accuracy: 0.0000e+00 - val_loss: 40.5995 - val_accuracy: 0.0000e+00\n",
            "Epoch 8/200\n",
            "3/3 [==============================] - 0s 16ms/step - loss: 51.5396 - accuracy: 0.0000e+00 - val_loss: 40.5937 - val_accuracy: 0.0000e+00\n",
            "Epoch 9/200\n",
            "3/3 [==============================] - 0s 15ms/step - loss: 51.5339 - accuracy: 0.0000e+00 - val_loss: 40.5877 - val_accuracy: 0.0000e+00\n",
            "Epoch 10/200\n",
            "3/3 [==============================] - 0s 15ms/step - loss: 51.5282 - accuracy: 0.0000e+00 - val_loss: 40.5817 - val_accuracy: 0.0000e+00\n",
            "Epoch 11/200\n",
            "3/3 [==============================] - 0s 15ms/step - loss: 51.5224 - accuracy: 0.0000e+00 - val_loss: 40.5755 - val_accuracy: 0.0000e+00\n",
            "Epoch 12/200\n",
            "3/3 [==============================] - 0s 15ms/step - loss: 51.5163 - accuracy: 0.0000e+00 - val_loss: 40.5693 - val_accuracy: 0.0000e+00\n",
            "Epoch 13/200\n",
            "3/3 [==============================] - 0s 15ms/step - loss: 51.5102 - accuracy: 0.0000e+00 - val_loss: 40.5629 - val_accuracy: 0.0000e+00\n",
            "Epoch 14/200\n",
            "3/3 [==============================] - 0s 15ms/step - loss: 51.5041 - accuracy: 0.0000e+00 - val_loss: 40.5564 - val_accuracy: 0.0000e+00\n",
            "Epoch 15/200\n",
            "3/3 [==============================] - 0s 14ms/step - loss: 51.4978 - accuracy: 0.0000e+00 - val_loss: 40.5497 - val_accuracy: 0.0000e+00\n",
            "Epoch 16/200\n",
            "3/3 [==============================] - 0s 15ms/step - loss: 51.4912 - accuracy: 0.0000e+00 - val_loss: 40.5430 - val_accuracy: 0.0000e+00\n",
            "Epoch 17/200\n",
            "3/3 [==============================] - 0s 16ms/step - loss: 51.4847 - accuracy: 0.0000e+00 - val_loss: 40.5361 - val_accuracy: 0.0000e+00\n",
            "Epoch 18/200\n",
            "3/3 [==============================] - 0s 18ms/step - loss: 51.4780 - accuracy: 0.0000e+00 - val_loss: 40.5290 - val_accuracy: 0.0000e+00\n",
            "Epoch 19/200\n",
            "3/3 [==============================] - 0s 18ms/step - loss: 51.4712 - accuracy: 0.0000e+00 - val_loss: 40.5218 - val_accuracy: 0.0000e+00\n",
            "Epoch 20/200\n",
            "3/3 [==============================] - 0s 17ms/step - loss: 51.4643 - accuracy: 0.0000e+00 - val_loss: 40.5145 - val_accuracy: 0.0000e+00\n",
            "Epoch 21/200\n",
            "3/3 [==============================] - 0s 14ms/step - loss: 51.4572 - accuracy: 0.0000e+00 - val_loss: 40.5071 - val_accuracy: 0.0000e+00\n",
            "Epoch 22/200\n",
            "3/3 [==============================] - 0s 15ms/step - loss: 51.4499 - accuracy: 0.0000e+00 - val_loss: 40.4995 - val_accuracy: 0.0000e+00\n",
            "Epoch 23/200\n",
            "3/3 [==============================] - 0s 16ms/step - loss: 51.4426 - accuracy: 0.0000e+00 - val_loss: 40.4917 - val_accuracy: 0.0000e+00\n",
            "Epoch 24/200\n",
            "3/3 [==============================] - 0s 17ms/step - loss: 51.4352 - accuracy: 0.0000e+00 - val_loss: 40.4838 - val_accuracy: 0.0000e+00\n",
            "Epoch 25/200\n",
            "3/3 [==============================] - 0s 15ms/step - loss: 51.4275 - accuracy: 0.0000e+00 - val_loss: 40.4758 - val_accuracy: 0.0000e+00\n",
            "Epoch 26/200\n",
            "3/3 [==============================] - 0s 15ms/step - loss: 51.4198 - accuracy: 0.0000e+00 - val_loss: 40.4676 - val_accuracy: 0.0000e+00\n",
            "Epoch 27/200\n",
            "3/3 [==============================] - 0s 18ms/step - loss: 51.4118 - accuracy: 0.0000e+00 - val_loss: 40.4593 - val_accuracy: 0.0000e+00\n",
            "Epoch 28/200\n",
            "3/3 [==============================] - 0s 15ms/step - loss: 51.4038 - accuracy: 0.0000e+00 - val_loss: 40.4509 - val_accuracy: 0.0000e+00\n",
            "Epoch 29/200\n",
            "3/3 [==============================] - 0s 15ms/step - loss: 51.3957 - accuracy: 0.0000e+00 - val_loss: 40.4423 - val_accuracy: 0.0000e+00\n",
            "Epoch 30/200\n",
            "3/3 [==============================] - 0s 16ms/step - loss: 51.3874 - accuracy: 0.0000e+00 - val_loss: 40.4336 - val_accuracy: 0.0000e+00\n",
            "Epoch 31/200\n",
            "3/3 [==============================] - 0s 17ms/step - loss: 51.3792 - accuracy: 0.0000e+00 - val_loss: 40.4247 - val_accuracy: 0.0000e+00\n",
            "Epoch 32/200\n",
            "3/3 [==============================] - 0s 15ms/step - loss: 51.3705 - accuracy: 0.0000e+00 - val_loss: 40.4158 - val_accuracy: 0.0000e+00\n",
            "Epoch 33/200\n",
            "3/3 [==============================] - 0s 24ms/step - loss: 51.3621 - accuracy: 0.0000e+00 - val_loss: 40.4067 - val_accuracy: 0.0000e+00\n",
            "Epoch 34/200\n",
            "3/3 [==============================] - 0s 19ms/step - loss: 51.3534 - accuracy: 0.0000e+00 - val_loss: 40.3976 - val_accuracy: 0.0000e+00\n",
            "Epoch 35/200\n",
            "3/3 [==============================] - 0s 18ms/step - loss: 51.3446 - accuracy: 0.0000e+00 - val_loss: 40.3884 - val_accuracy: 0.0000e+00\n",
            "Epoch 36/200\n",
            "3/3 [==============================] - 0s 21ms/step - loss: 51.3356 - accuracy: 0.0000e+00 - val_loss: 40.3791 - val_accuracy: 0.0000e+00\n",
            "Epoch 37/200\n",
            "3/3 [==============================] - 0s 22ms/step - loss: 51.3268 - accuracy: 0.0000e+00 - val_loss: 40.3696 - val_accuracy: 0.0000e+00\n",
            "Epoch 38/200\n",
            "3/3 [==============================] - 0s 23ms/step - loss: 51.3176 - accuracy: 0.0000e+00 - val_loss: 40.3601 - val_accuracy: 0.0000e+00\n",
            "Epoch 39/200\n",
            "3/3 [==============================] - 0s 21ms/step - loss: 51.3085 - accuracy: 0.0000e+00 - val_loss: 40.3505 - val_accuracy: 0.0000e+00\n",
            "Epoch 40/200\n",
            "3/3 [==============================] - 0s 24ms/step - loss: 51.2993 - accuracy: 0.0000e+00 - val_loss: 40.3409 - val_accuracy: 0.0000e+00\n",
            "Epoch 41/200\n",
            "3/3 [==============================] - 0s 21ms/step - loss: 51.2902 - accuracy: 0.0000e+00 - val_loss: 40.3311 - val_accuracy: 0.0000e+00\n",
            "Epoch 42/200\n",
            "3/3 [==============================] - 0s 21ms/step - loss: 51.2808 - accuracy: 0.0000e+00 - val_loss: 40.3213 - val_accuracy: 0.0000e+00\n",
            "Epoch 43/200\n",
            "3/3 [==============================] - 0s 21ms/step - loss: 51.2715 - accuracy: 0.0000e+00 - val_loss: 40.3115 - val_accuracy: 0.0000e+00\n",
            "Epoch 44/200\n",
            "3/3 [==============================] - 0s 20ms/step - loss: 51.2619 - accuracy: 0.0000e+00 - val_loss: 40.3017 - val_accuracy: 0.0000e+00\n",
            "Epoch 45/200\n",
            "3/3 [==============================] - 0s 19ms/step - loss: 51.2527 - accuracy: 0.0000e+00 - val_loss: 40.2918 - val_accuracy: 0.0000e+00\n",
            "Epoch 46/200\n",
            "3/3 [==============================] - 0s 24ms/step - loss: 51.2430 - accuracy: 0.0000e+00 - val_loss: 40.2819 - val_accuracy: 0.0000e+00\n",
            "Epoch 47/200\n",
            "3/3 [==============================] - 0s 20ms/step - loss: 51.2335 - accuracy: 0.0000e+00 - val_loss: 40.2719 - val_accuracy: 0.0000e+00\n",
            "Epoch 48/200\n",
            "3/3 [==============================] - 0s 25ms/step - loss: 51.2240 - accuracy: 0.0000e+00 - val_loss: 40.2619 - val_accuracy: 0.0000e+00\n",
            "Epoch 49/200\n",
            "3/3 [==============================] - 0s 20ms/step - loss: 51.2143 - accuracy: 0.0000e+00 - val_loss: 40.2517 - val_accuracy: 0.0000e+00\n",
            "Epoch 50/200\n",
            "3/3 [==============================] - 0s 21ms/step - loss: 51.2047 - accuracy: 0.0000e+00 - val_loss: 40.2415 - val_accuracy: 0.0000e+00\n",
            "Epoch 51/200\n",
            "3/3 [==============================] - 0s 19ms/step - loss: 51.1949 - accuracy: 0.0000e+00 - val_loss: 40.2313 - val_accuracy: 0.0000e+00\n",
            "Epoch 52/200\n",
            "3/3 [==============================] - 0s 22ms/step - loss: 51.1850 - accuracy: 0.0000e+00 - val_loss: 40.2209 - val_accuracy: 0.0000e+00\n",
            "Epoch 53/200\n",
            "3/3 [==============================] - 0s 27ms/step - loss: 51.1752 - accuracy: 0.0000e+00 - val_loss: 40.2105 - val_accuracy: 0.0000e+00\n",
            "Epoch 54/200\n",
            "3/3 [==============================] - 0s 21ms/step - loss: 51.1651 - accuracy: 0.0000e+00 - val_loss: 40.2000 - val_accuracy: 0.0000e+00\n",
            "Epoch 55/200\n",
            "3/3 [==============================] - 0s 22ms/step - loss: 51.1550 - accuracy: 0.0000e+00 - val_loss: 40.1894 - val_accuracy: 0.0000e+00\n",
            "Epoch 56/200\n",
            "3/3 [==============================] - 0s 22ms/step - loss: 51.1450 - accuracy: 0.0000e+00 - val_loss: 40.1787 - val_accuracy: 0.0000e+00\n",
            "Epoch 57/200\n",
            "3/3 [==============================] - 0s 22ms/step - loss: 51.1345 - accuracy: 0.0000e+00 - val_loss: 40.1680 - val_accuracy: 0.0000e+00\n",
            "Epoch 58/200\n",
            "3/3 [==============================] - 0s 19ms/step - loss: 51.1241 - accuracy: 0.0000e+00 - val_loss: 40.1572 - val_accuracy: 0.0000e+00\n",
            "Epoch 59/200\n",
            "3/3 [==============================] - 0s 22ms/step - loss: 51.1137 - accuracy: 0.0000e+00 - val_loss: 40.1464 - val_accuracy: 0.0000e+00\n",
            "Epoch 60/200\n",
            "3/3 [==============================] - 0s 20ms/step - loss: 51.1032 - accuracy: 0.0000e+00 - val_loss: 40.1355 - val_accuracy: 0.0000e+00\n",
            "Epoch 61/200\n",
            "3/3 [==============================] - 0s 20ms/step - loss: 51.0927 - accuracy: 0.0000e+00 - val_loss: 40.1246 - val_accuracy: 0.0000e+00\n",
            "Epoch 62/200\n",
            "3/3 [==============================] - 0s 19ms/step - loss: 51.0819 - accuracy: 0.0000e+00 - val_loss: 40.1139 - val_accuracy: 0.0000e+00\n",
            "Epoch 63/200\n",
            "3/3 [==============================] - 0s 23ms/step - loss: 51.0714 - accuracy: 0.0000e+00 - val_loss: 40.1032 - val_accuracy: 0.0000e+00\n",
            "Epoch 64/200\n",
            "3/3 [==============================] - 0s 21ms/step - loss: 51.0609 - accuracy: 0.0000e+00 - val_loss: 40.0927 - val_accuracy: 0.0000e+00\n",
            "Epoch 65/200\n",
            "3/3 [==============================] - 0s 20ms/step - loss: 51.0506 - accuracy: 0.0000e+00 - val_loss: 40.0823 - val_accuracy: 0.0000e+00\n",
            "Epoch 66/200\n",
            "3/3 [==============================] - 0s 22ms/step - loss: 51.0404 - accuracy: 0.0000e+00 - val_loss: 40.0723 - val_accuracy: 0.0000e+00\n",
            "Epoch 67/200\n",
            "3/3 [==============================] - 0s 22ms/step - loss: 51.0303 - accuracy: 0.0000e+00 - val_loss: 40.0626 - val_accuracy: 0.0000e+00\n",
            "Epoch 68/200\n",
            "3/3 [==============================] - 0s 21ms/step - loss: 51.0208 - accuracy: 0.0000e+00 - val_loss: 40.0533 - val_accuracy: 0.0000e+00\n",
            "Epoch 69/200\n",
            "3/3 [==============================] - 0s 20ms/step - loss: 51.0113 - accuracy: 0.0000e+00 - val_loss: 40.0444 - val_accuracy: 0.0000e+00\n",
            "Epoch 70/200\n",
            "3/3 [==============================] - 0s 19ms/step - loss: 51.0023 - accuracy: 0.0000e+00 - val_loss: 40.0359 - val_accuracy: 0.0000e+00\n",
            "Epoch 71/200\n",
            "3/3 [==============================] - 0s 21ms/step - loss: 50.9939 - accuracy: 0.0000e+00 - val_loss: 40.0278 - val_accuracy: 0.0000e+00\n",
            "Epoch 72/200\n",
            "3/3 [==============================] - 0s 22ms/step - loss: 50.9859 - accuracy: 0.0000e+00 - val_loss: 40.0202 - val_accuracy: 0.0000e+00\n",
            "Epoch 73/200\n",
            "3/3 [==============================] - 0s 27ms/step - loss: 50.9781 - accuracy: 0.0000e+00 - val_loss: 40.0130 - val_accuracy: 0.0000e+00\n",
            "Epoch 74/200\n",
            "3/3 [==============================] - 0s 25ms/step - loss: 50.9709 - accuracy: 0.0000e+00 - val_loss: 40.0063 - val_accuracy: 0.0000e+00\n",
            "Epoch 75/200\n",
            "3/3 [==============================] - 0s 20ms/step - loss: 50.9642 - accuracy: 0.0000e+00 - val_loss: 40.0000 - val_accuracy: 0.0000e+00\n",
            "Epoch 76/200\n",
            "3/3 [==============================] - 0s 18ms/step - loss: 50.9579 - accuracy: 0.0000e+00 - val_loss: 39.9942 - val_accuracy: 0.0000e+00\n",
            "Epoch 77/200\n",
            "3/3 [==============================] - 0s 20ms/step - loss: 50.9519 - accuracy: 0.0000e+00 - val_loss: 39.9887 - val_accuracy: 0.0000e+00\n",
            "Epoch 78/200\n",
            "3/3 [==============================] - 0s 21ms/step - loss: 50.9464 - accuracy: 0.0000e+00 - val_loss: 39.9835 - val_accuracy: 0.0000e+00\n",
            "Epoch 79/200\n",
            "3/3 [==============================] - 0s 20ms/step - loss: 50.9413 - accuracy: 0.0000e+00 - val_loss: 39.9788 - val_accuracy: 0.0000e+00\n",
            "Epoch 80/200\n",
            "3/3 [==============================] - 0s 21ms/step - loss: 50.9365 - accuracy: 0.0000e+00 - val_loss: 39.9743 - val_accuracy: 0.0000e+00\n",
            "Epoch 81/200\n",
            "3/3 [==============================] - 0s 23ms/step - loss: 50.9321 - accuracy: 0.0000e+00 - val_loss: 39.9701 - val_accuracy: 0.0000e+00\n",
            "Epoch 82/200\n",
            "3/3 [==============================] - 0s 22ms/step - loss: 50.9278 - accuracy: 0.0000e+00 - val_loss: 39.9662 - val_accuracy: 0.0000e+00\n",
            "Epoch 83/200\n",
            "3/3 [==============================] - 0s 24ms/step - loss: 50.9239 - accuracy: 0.0000e+00 - val_loss: 39.9626 - val_accuracy: 0.0000e+00\n",
            "Epoch 84/200\n",
            "3/3 [==============================] - 0s 27ms/step - loss: 50.9204 - accuracy: 0.0000e+00 - val_loss: 39.9591 - val_accuracy: 0.0000e+00\n",
            "Epoch 85/200\n",
            "3/3 [==============================] - 0s 24ms/step - loss: 50.9169 - accuracy: 0.0000e+00 - val_loss: 39.9559 - val_accuracy: 0.0000e+00\n",
            "Epoch 86/200\n",
            "3/3 [==============================] - 0s 25ms/step - loss: 50.9136 - accuracy: 0.0000e+00 - val_loss: 39.9529 - val_accuracy: 0.0000e+00\n",
            "Epoch 87/200\n",
            "3/3 [==============================] - 0s 21ms/step - loss: 50.9106 - accuracy: 0.0000e+00 - val_loss: 39.9500 - val_accuracy: 0.0000e+00\n",
            "Epoch 88/200\n",
            "3/3 [==============================] - 0s 24ms/step - loss: 50.9077 - accuracy: 0.0000e+00 - val_loss: 39.9472 - val_accuracy: 0.0000e+00\n",
            "Epoch 89/200\n",
            "3/3 [==============================] - 0s 21ms/step - loss: 50.9050 - accuracy: 0.0000e+00 - val_loss: 39.9446 - val_accuracy: 0.0000e+00\n",
            "Epoch 90/200\n",
            "3/3 [==============================] - 0s 22ms/step - loss: 50.9024 - accuracy: 0.0000e+00 - val_loss: 39.9421 - val_accuracy: 0.0000e+00\n",
            "Epoch 91/200\n",
            "3/3 [==============================] - 0s 20ms/step - loss: 50.9000 - accuracy: 0.0000e+00 - val_loss: 39.9398 - val_accuracy: 0.0000e+00\n",
            "Epoch 92/200\n",
            "3/3 [==============================] - 0s 26ms/step - loss: 50.8976 - accuracy: 0.0000e+00 - val_loss: 39.9375 - val_accuracy: 0.0000e+00\n",
            "Epoch 93/200\n",
            "3/3 [==============================] - 0s 21ms/step - loss: 50.8954 - accuracy: 0.0000e+00 - val_loss: 39.9353 - val_accuracy: 0.0000e+00\n",
            "Epoch 94/200\n",
            "3/3 [==============================] - 0s 19ms/step - loss: 50.8932 - accuracy: 0.0000e+00 - val_loss: 39.9333 - val_accuracy: 0.0000e+00\n",
            "Epoch 95/200\n",
            "3/3 [==============================] - 0s 19ms/step - loss: 50.8912 - accuracy: 0.0000e+00 - val_loss: 39.9313 - val_accuracy: 0.0000e+00\n",
            "Epoch 96/200\n",
            "3/3 [==============================] - 0s 22ms/step - loss: 50.8892 - accuracy: 0.0000e+00 - val_loss: 39.9294 - val_accuracy: 0.0000e+00\n",
            "Epoch 97/200\n",
            "3/3 [==============================] - 0s 24ms/step - loss: 50.8873 - accuracy: 0.0000e+00 - val_loss: 39.9275 - val_accuracy: 0.0000e+00\n",
            "Epoch 98/200\n",
            "3/3 [==============================] - 0s 19ms/step - loss: 50.8855 - accuracy: 0.0000e+00 - val_loss: 39.9258 - val_accuracy: 0.0000e+00\n",
            "Epoch 99/200\n",
            "3/3 [==============================] - 0s 24ms/step - loss: 50.8837 - accuracy: 0.0000e+00 - val_loss: 39.9240 - val_accuracy: 0.0000e+00\n",
            "Epoch 100/200\n",
            "3/3 [==============================] - 0s 23ms/step - loss: 50.8821 - accuracy: 0.0000e+00 - val_loss: 39.9224 - val_accuracy: 0.0000e+00\n",
            "Epoch 101/200\n",
            "3/3 [==============================] - 0s 21ms/step - loss: 50.8804 - accuracy: 0.0000e+00 - val_loss: 39.9208 - val_accuracy: 0.0000e+00\n",
            "Epoch 102/200\n",
            "3/3 [==============================] - 0s 16ms/step - loss: 50.8789 - accuracy: 0.0000e+00 - val_loss: 39.9193 - val_accuracy: 0.0000e+00\n",
            "Epoch 103/200\n",
            "3/3 [==============================] - 0s 17ms/step - loss: 50.8774 - accuracy: 0.0000e+00 - val_loss: 39.9178 - val_accuracy: 0.0000e+00\n",
            "Epoch 104/200\n",
            "3/3 [==============================] - 0s 20ms/step - loss: 50.8759 - accuracy: 0.0000e+00 - val_loss: 39.9163 - val_accuracy: 0.0000e+00\n",
            "Epoch 105/200\n",
            "3/3 [==============================] - 0s 16ms/step - loss: 50.8745 - accuracy: 0.0000e+00 - val_loss: 39.9149 - val_accuracy: 0.0000e+00\n",
            "Epoch 106/200\n",
            "3/3 [==============================] - 0s 16ms/step - loss: 50.8731 - accuracy: 0.0000e+00 - val_loss: 39.9136 - val_accuracy: 0.0000e+00\n",
            "Epoch 107/200\n",
            "3/3 [==============================] - 0s 20ms/step - loss: 50.8718 - accuracy: 0.0000e+00 - val_loss: 39.9123 - val_accuracy: 0.0000e+00\n",
            "Epoch 108/200\n",
            "3/3 [==============================] - 0s 16ms/step - loss: 50.8705 - accuracy: 0.0000e+00 - val_loss: 39.9110 - val_accuracy: 0.0000e+00\n",
            "Epoch 109/200\n",
            "3/3 [==============================] - 0s 16ms/step - loss: 50.8692 - accuracy: 0.0000e+00 - val_loss: 39.9097 - val_accuracy: 0.0000e+00\n",
            "Epoch 110/200\n",
            "3/3 [==============================] - 0s 18ms/step - loss: 50.8680 - accuracy: 0.0000e+00 - val_loss: 39.9085 - val_accuracy: 0.0000e+00\n",
            "Epoch 111/200\n",
            "3/3 [==============================] - 0s 17ms/step - loss: 50.8668 - accuracy: 0.0000e+00 - val_loss: 39.9073 - val_accuracy: 0.0000e+00\n",
            "Epoch 112/200\n",
            "3/3 [==============================] - 0s 17ms/step - loss: 50.8656 - accuracy: 0.0000e+00 - val_loss: 39.9061 - val_accuracy: 0.0000e+00\n",
            "Epoch 113/200\n",
            "3/3 [==============================] - 0s 15ms/step - loss: 50.8645 - accuracy: 0.0000e+00 - val_loss: 39.9050 - val_accuracy: 0.0000e+00\n",
            "Epoch 114/200\n",
            "3/3 [==============================] - 0s 18ms/step - loss: 50.8633 - accuracy: 0.0000e+00 - val_loss: 39.9039 - val_accuracy: 0.0000e+00\n",
            "Epoch 115/200\n",
            "3/3 [==============================] - 0s 20ms/step - loss: 50.8623 - accuracy: 0.0000e+00 - val_loss: 39.9028 - val_accuracy: 0.0000e+00\n",
            "Epoch 116/200\n",
            "3/3 [==============================] - 0s 18ms/step - loss: 50.8612 - accuracy: 0.0000e+00 - val_loss: 39.9018 - val_accuracy: 0.0000e+00\n",
            "Epoch 117/200\n",
            "3/3 [==============================] - 0s 20ms/step - loss: 50.8602 - accuracy: 0.0000e+00 - val_loss: 39.9007 - val_accuracy: 0.0000e+00\n",
            "Epoch 118/200\n",
            "3/3 [==============================] - 0s 17ms/step - loss: 50.8592 - accuracy: 0.0000e+00 - val_loss: 39.8997 - val_accuracy: 0.0000e+00\n",
            "Epoch 119/200\n",
            "3/3 [==============================] - 0s 15ms/step - loss: 50.8582 - accuracy: 0.0000e+00 - val_loss: 39.8987 - val_accuracy: 0.0000e+00\n",
            "Epoch 120/200\n",
            "3/3 [==============================] - 0s 16ms/step - loss: 50.8572 - accuracy: 0.0000e+00 - val_loss: 39.8978 - val_accuracy: 0.0000e+00\n",
            "Epoch 121/200\n",
            "3/3 [==============================] - 0s 17ms/step - loss: 50.8563 - accuracy: 0.0000e+00 - val_loss: 39.8968 - val_accuracy: 0.0000e+00\n",
            "Epoch 122/200\n",
            "3/3 [==============================] - 0s 19ms/step - loss: 50.8553 - accuracy: 0.0000e+00 - val_loss: 39.8959 - val_accuracy: 0.0000e+00\n",
            "Epoch 123/200\n",
            "3/3 [==============================] - 0s 17ms/step - loss: 50.8545 - accuracy: 0.0000e+00 - val_loss: 39.8950 - val_accuracy: 0.0000e+00\n",
            "Epoch 124/200\n",
            "3/3 [==============================] - 0s 16ms/step - loss: 50.8536 - accuracy: 0.0000e+00 - val_loss: 39.8941 - val_accuracy: 0.0000e+00\n",
            "Epoch 125/200\n",
            "3/3 [==============================] - 0s 16ms/step - loss: 50.8527 - accuracy: 0.0000e+00 - val_loss: 39.8932 - val_accuracy: 0.0000e+00\n",
            "Epoch 126/200\n",
            "3/3 [==============================] - 0s 17ms/step - loss: 50.8518 - accuracy: 0.0000e+00 - val_loss: 39.8924 - val_accuracy: 0.0000e+00\n",
            "Epoch 127/200\n",
            "3/3 [==============================] - 0s 19ms/step - loss: 50.8510 - accuracy: 0.0000e+00 - val_loss: 39.8916 - val_accuracy: 0.0000e+00\n",
            "Epoch 128/200\n",
            "3/3 [==============================] - 0s 18ms/step - loss: 50.8502 - accuracy: 0.0000e+00 - val_loss: 39.8907 - val_accuracy: 0.0000e+00\n",
            "Epoch 129/200\n",
            "3/3 [==============================] - 0s 19ms/step - loss: 50.8494 - accuracy: 0.0000e+00 - val_loss: 39.8899 - val_accuracy: 0.0000e+00\n",
            "Epoch 130/200\n",
            "3/3 [==============================] - 0s 17ms/step - loss: 50.8486 - accuracy: 0.0000e+00 - val_loss: 39.8891 - val_accuracy: 0.0000e+00\n",
            "Epoch 131/200\n",
            "3/3 [==============================] - 0s 20ms/step - loss: 50.8478 - accuracy: 0.0000e+00 - val_loss: 39.8883 - val_accuracy: 0.0000e+00\n",
            "Epoch 132/200\n",
            "3/3 [==============================] - 0s 22ms/step - loss: 50.8471 - accuracy: 0.0000e+00 - val_loss: 39.8876 - val_accuracy: 0.0000e+00\n",
            "Epoch 133/200\n",
            "3/3 [==============================] - 0s 17ms/step - loss: 50.8463 - accuracy: 0.0000e+00 - val_loss: 39.8868 - val_accuracy: 0.0000e+00\n",
            "Epoch 134/200\n",
            "3/3 [==============================] - 0s 17ms/step - loss: 50.8456 - accuracy: 0.0000e+00 - val_loss: 39.8861 - val_accuracy: 0.0000e+00\n",
            "Epoch 135/200\n",
            "3/3 [==============================] - 0s 16ms/step - loss: 50.8449 - accuracy: 0.0000e+00 - val_loss: 39.8854 - val_accuracy: 0.0000e+00\n",
            "Epoch 136/200\n",
            "3/3 [==============================] - 0s 17ms/step - loss: 50.8442 - accuracy: 0.0000e+00 - val_loss: 39.8847 - val_accuracy: 0.0000e+00\n",
            "Epoch 137/200\n",
            "3/3 [==============================] - 0s 20ms/step - loss: 50.8435 - accuracy: 0.0000e+00 - val_loss: 39.8840 - val_accuracy: 0.0000e+00\n",
            "Epoch 138/200\n",
            "3/3 [==============================] - 0s 16ms/step - loss: 50.8428 - accuracy: 0.0000e+00 - val_loss: 39.8833 - val_accuracy: 0.0000e+00\n",
            "Epoch 139/200\n",
            "3/3 [==============================] - 0s 17ms/step - loss: 50.8421 - accuracy: 0.0000e+00 - val_loss: 39.8826 - val_accuracy: 0.0000e+00\n",
            "Epoch 140/200\n",
            "3/3 [==============================] - 0s 20ms/step - loss: 50.8414 - accuracy: 0.0000e+00 - val_loss: 39.8819 - val_accuracy: 0.0000e+00\n",
            "Epoch 141/200\n",
            "3/3 [==============================] - 0s 17ms/step - loss: 50.8408 - accuracy: 0.0000e+00 - val_loss: 39.8813 - val_accuracy: 0.0000e+00\n",
            "Epoch 142/200\n",
            "3/3 [==============================] - 0s 19ms/step - loss: 50.8401 - accuracy: 0.0000e+00 - val_loss: 39.8806 - val_accuracy: 0.0000e+00\n",
            "Epoch 143/200\n",
            "3/3 [==============================] - 0s 15ms/step - loss: 50.8395 - accuracy: 0.0000e+00 - val_loss: 39.8800 - val_accuracy: 0.0000e+00\n",
            "Epoch 144/200\n",
            "3/3 [==============================] - 0s 17ms/step - loss: 50.8389 - accuracy: 0.0000e+00 - val_loss: 39.8793 - val_accuracy: 0.0000e+00\n",
            "Epoch 145/200\n",
            "3/3 [==============================] - 0s 19ms/step - loss: 50.8383 - accuracy: 0.0000e+00 - val_loss: 39.8787 - val_accuracy: 0.0000e+00\n",
            "Epoch 146/200\n",
            "3/3 [==============================] - 0s 18ms/step - loss: 50.8377 - accuracy: 0.0000e+00 - val_loss: 39.8781 - val_accuracy: 0.0000e+00\n",
            "Epoch 147/200\n",
            "3/3 [==============================] - 0s 17ms/step - loss: 50.8371 - accuracy: 0.0000e+00 - val_loss: 39.8775 - val_accuracy: 0.0000e+00\n",
            "Epoch 148/200\n",
            "3/3 [==============================] - 0s 20ms/step - loss: 50.8365 - accuracy: 0.0000e+00 - val_loss: 39.8769 - val_accuracy: 0.0000e+00\n",
            "Epoch 149/200\n",
            "3/3 [==============================] - 0s 18ms/step - loss: 50.8359 - accuracy: 0.0000e+00 - val_loss: 39.8763 - val_accuracy: 0.0000e+00\n",
            "Epoch 150/200\n",
            "3/3 [==============================] - 0s 18ms/step - loss: 50.8354 - accuracy: 0.0000e+00 - val_loss: 39.8758 - val_accuracy: 0.0000e+00\n",
            "Epoch 151/200\n",
            "3/3 [==============================] - 0s 17ms/step - loss: 50.8348 - accuracy: 0.0000e+00 - val_loss: 39.8752 - val_accuracy: 0.0000e+00\n",
            "Epoch 152/200\n",
            "3/3 [==============================] - 0s 16ms/step - loss: 50.8342 - accuracy: 0.0000e+00 - val_loss: 39.8746 - val_accuracy: 0.0000e+00\n",
            "Epoch 153/200\n",
            "3/3 [==============================] - 0s 17ms/step - loss: 50.8337 - accuracy: 0.0000e+00 - val_loss: 39.8741 - val_accuracy: 0.0000e+00\n",
            "Epoch 154/200\n",
            "3/3 [==============================] - 0s 21ms/step - loss: 50.8332 - accuracy: 0.0000e+00 - val_loss: 39.8736 - val_accuracy: 0.0000e+00\n",
            "Epoch 155/200\n",
            "3/3 [==============================] - 0s 16ms/step - loss: 50.8326 - accuracy: 0.0000e+00 - val_loss: 39.8730 - val_accuracy: 0.0000e+00\n",
            "Epoch 156/200\n",
            "3/3 [==============================] - 0s 21ms/step - loss: 50.8321 - accuracy: 0.0000e+00 - val_loss: 39.8725 - val_accuracy: 0.0000e+00\n",
            "Epoch 157/200\n",
            "3/3 [==============================] - 0s 20ms/step - loss: 50.8316 - accuracy: 0.0000e+00 - val_loss: 39.8720 - val_accuracy: 0.0000e+00\n",
            "Epoch 158/200\n",
            "3/3 [==============================] - 0s 17ms/step - loss: 50.8311 - accuracy: 0.0000e+00 - val_loss: 39.8714 - val_accuracy: 0.0000e+00\n",
            "Epoch 159/200\n",
            "3/3 [==============================] - 0s 18ms/step - loss: 50.8306 - accuracy: 0.0000e+00 - val_loss: 39.8709 - val_accuracy: 0.0000e+00\n",
            "Epoch 160/200\n",
            "3/3 [==============================] - 0s 17ms/step - loss: 50.8301 - accuracy: 0.0000e+00 - val_loss: 39.8704 - val_accuracy: 0.0000e+00\n",
            "Epoch 161/200\n",
            "3/3 [==============================] - 0s 16ms/step - loss: 50.8296 - accuracy: 0.0000e+00 - val_loss: 39.8699 - val_accuracy: 0.0000e+00\n",
            "Epoch 162/200\n",
            "3/3 [==============================] - 0s 17ms/step - loss: 50.8291 - accuracy: 0.0000e+00 - val_loss: 39.8695 - val_accuracy: 0.0000e+00\n",
            "Epoch 163/200\n",
            "3/3 [==============================] - 0s 22ms/step - loss: 50.8287 - accuracy: 0.0000e+00 - val_loss: 39.8690 - val_accuracy: 0.0000e+00\n",
            "Epoch 164/200\n",
            "3/3 [==============================] - 0s 24ms/step - loss: 50.8282 - accuracy: 0.0000e+00 - val_loss: 39.8685 - val_accuracy: 0.0000e+00\n",
            "Epoch 165/200\n",
            "3/3 [==============================] - 0s 22ms/step - loss: 50.8277 - accuracy: 0.0000e+00 - val_loss: 39.8680 - val_accuracy: 0.0000e+00\n",
            "Epoch 166/200\n",
            "3/3 [==============================] - 0s 25ms/step - loss: 50.8273 - accuracy: 0.0000e+00 - val_loss: 39.8676 - val_accuracy: 0.0000e+00\n",
            "Epoch 167/200\n",
            "3/3 [==============================] - 0s 21ms/step - loss: 50.8268 - accuracy: 0.0000e+00 - val_loss: 39.8671 - val_accuracy: 0.0000e+00\n",
            "Epoch 168/200\n",
            "3/3 [==============================] - 0s 21ms/step - loss: 50.8264 - accuracy: 0.0000e+00 - val_loss: 39.8666 - val_accuracy: 0.0000e+00\n",
            "Epoch 169/200\n",
            "3/3 [==============================] - 0s 22ms/step - loss: 50.8259 - accuracy: 0.0000e+00 - val_loss: 39.8662 - val_accuracy: 0.0000e+00\n",
            "Epoch 170/200\n",
            "3/3 [==============================] - 0s 24ms/step - loss: 50.8255 - accuracy: 0.0000e+00 - val_loss: 39.8658 - val_accuracy: 0.0000e+00\n",
            "Epoch 171/200\n",
            "3/3 [==============================] - 0s 23ms/step - loss: 50.8251 - accuracy: 0.0000e+00 - val_loss: 39.8653 - val_accuracy: 0.0000e+00\n",
            "Epoch 172/200\n",
            "3/3 [==============================] - 0s 22ms/step - loss: 50.8246 - accuracy: 0.0000e+00 - val_loss: 39.8649 - val_accuracy: 0.0000e+00\n",
            "Epoch 173/200\n",
            "3/3 [==============================] - 0s 24ms/step - loss: 50.8242 - accuracy: 0.0000e+00 - val_loss: 39.8645 - val_accuracy: 0.0000e+00\n",
            "Epoch 174/200\n",
            "3/3 [==============================] - 0s 24ms/step - loss: 50.8238 - accuracy: 0.0000e+00 - val_loss: 39.8640 - val_accuracy: 0.0000e+00\n",
            "Epoch 175/200\n",
            "3/3 [==============================] - 0s 25ms/step - loss: 50.8234 - accuracy: 0.0000e+00 - val_loss: 39.8636 - val_accuracy: 0.0000e+00\n",
            "Epoch 176/200\n",
            "3/3 [==============================] - 0s 28ms/step - loss: 50.8230 - accuracy: 0.0000e+00 - val_loss: 39.8632 - val_accuracy: 0.0000e+00\n",
            "Epoch 177/200\n",
            "3/3 [==============================] - 0s 23ms/step - loss: 50.8226 - accuracy: 0.0000e+00 - val_loss: 39.8628 - val_accuracy: 0.0000e+00\n",
            "Epoch 178/200\n",
            "3/3 [==============================] - 0s 21ms/step - loss: 50.8222 - accuracy: 0.0000e+00 - val_loss: 39.8624 - val_accuracy: 0.0000e+00\n",
            "Epoch 179/200\n",
            "3/3 [==============================] - 0s 33ms/step - loss: 50.8218 - accuracy: 0.0000e+00 - val_loss: 39.8620 - val_accuracy: 0.0000e+00\n",
            "Epoch 180/200\n",
            "3/3 [==============================] - 0s 22ms/step - loss: 50.8214 - accuracy: 0.0000e+00 - val_loss: 39.8616 - val_accuracy: 0.0000e+00\n",
            "Epoch 181/200\n",
            "3/3 [==============================] - 0s 24ms/step - loss: 50.8210 - accuracy: 0.0000e+00 - val_loss: 39.8612 - val_accuracy: 0.0000e+00\n",
            "Epoch 182/200\n",
            "3/3 [==============================] - 0s 24ms/step - loss: 50.8206 - accuracy: 0.0000e+00 - val_loss: 39.8608 - val_accuracy: 0.0000e+00\n",
            "Epoch 183/200\n",
            "3/3 [==============================] - 0s 21ms/step - loss: 50.8203 - accuracy: 0.0000e+00 - val_loss: 39.8604 - val_accuracy: 0.0000e+00\n",
            "Epoch 184/200\n",
            "3/3 [==============================] - 0s 20ms/step - loss: 50.8199 - accuracy: 0.0000e+00 - val_loss: 39.8601 - val_accuracy: 0.0000e+00\n",
            "Epoch 185/200\n",
            "3/3 [==============================] - 0s 23ms/step - loss: 50.8195 - accuracy: 0.0000e+00 - val_loss: 39.8597 - val_accuracy: 0.0000e+00\n",
            "Epoch 186/200\n",
            "3/3 [==============================] - 0s 24ms/step - loss: 50.8192 - accuracy: 0.0000e+00 - val_loss: 39.8593 - val_accuracy: 0.0000e+00\n",
            "Epoch 187/200\n",
            "3/3 [==============================] - 0s 23ms/step - loss: 50.8188 - accuracy: 0.0000e+00 - val_loss: 39.8590 - val_accuracy: 0.0000e+00\n",
            "Epoch 188/200\n",
            "3/3 [==============================] - 0s 24ms/step - loss: 50.8185 - accuracy: 0.0000e+00 - val_loss: 39.8586 - val_accuracy: 0.0000e+00\n",
            "Epoch 189/200\n",
            "3/3 [==============================] - 0s 27ms/step - loss: 50.8181 - accuracy: 0.0000e+00 - val_loss: 39.8582 - val_accuracy: 0.0000e+00\n",
            "Epoch 190/200\n",
            "3/3 [==============================] - 0s 21ms/step - loss: 50.8178 - accuracy: 0.0000e+00 - val_loss: 39.8579 - val_accuracy: 0.0000e+00\n",
            "Epoch 191/200\n",
            "3/3 [==============================] - 0s 21ms/step - loss: 50.8174 - accuracy: 0.0000e+00 - val_loss: 39.8575 - val_accuracy: 0.0000e+00\n",
            "Epoch 192/200\n",
            "3/3 [==============================] - 0s 22ms/step - loss: 50.8171 - accuracy: 0.0000e+00 - val_loss: 39.8572 - val_accuracy: 0.0000e+00\n",
            "Epoch 193/200\n",
            "3/3 [==============================] - 0s 23ms/step - loss: 50.8167 - accuracy: 0.0000e+00 - val_loss: 39.8568 - val_accuracy: 0.0000e+00\n",
            "Epoch 194/200\n",
            "3/3 [==============================] - 0s 29ms/step - loss: 50.8164 - accuracy: 0.0000e+00 - val_loss: 39.8565 - val_accuracy: 0.0000e+00\n",
            "Epoch 195/200\n",
            "3/3 [==============================] - 0s 19ms/step - loss: 50.8161 - accuracy: 0.0000e+00 - val_loss: 39.8562 - val_accuracy: 0.0000e+00\n",
            "Epoch 196/200\n",
            "3/3 [==============================] - 0s 20ms/step - loss: 50.8157 - accuracy: 0.0000e+00 - val_loss: 39.8558 - val_accuracy: 0.0000e+00\n",
            "Epoch 197/200\n",
            "3/3 [==============================] - 0s 16ms/step - loss: 50.8154 - accuracy: 0.0000e+00 - val_loss: 39.8555 - val_accuracy: 0.0000e+00\n",
            "Epoch 198/200\n",
            "3/3 [==============================] - 0s 17ms/step - loss: 50.8151 - accuracy: 0.0000e+00 - val_loss: 39.8552 - val_accuracy: 0.0000e+00\n",
            "Epoch 199/200\n",
            "3/3 [==============================] - 0s 17ms/step - loss: 50.8148 - accuracy: 0.0000e+00 - val_loss: 39.8548 - val_accuracy: 0.0000e+00\n",
            "Epoch 200/200\n",
            "3/3 [==============================] - 0s 17ms/step - loss: 50.8145 - accuracy: 0.0000e+00 - val_loss: 39.8545 - val_accuracy: 0.0000e+00\n"
          ],
          "name": "stdout"
        }
      ]
    },
    {
      "cell_type": "code",
      "metadata": {
        "id": "X_xXohn7XFa5"
      },
      "source": [
        "results = model.predict(x_test)"
      ],
      "execution_count": null,
      "outputs": []
    },
    {
      "cell_type": "code",
      "metadata": {
        "id": "34fMbQNTXOYV"
      },
      "source": [
        ""
      ],
      "execution_count": null,
      "outputs": []
    }
  ]
}